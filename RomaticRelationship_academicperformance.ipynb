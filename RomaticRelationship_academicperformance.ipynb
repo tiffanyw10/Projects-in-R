{
 "cells": [
  {
   "cell_type": "code",
   "execution_count": 13,
   "id": "20ec59c8-299f-4889-b50e-46d5ffb54325",
   "metadata": {
    "tags": []
   },
   "outputs": [
    {
     "name": "stderr",
     "output_type": "stream",
     "text": [
      "Installing package into ‘/home/jupyter/R/x86_64-pc-linux-gnu-library/4.2’\n",
      "(as ‘lib’ is unspecified)\n",
      "\n",
      "Installing package into ‘/home/jupyter/R/x86_64-pc-linux-gnu-library/4.2’\n",
      "(as ‘lib’ is unspecified)\n",
      "\n",
      "Installing package into ‘/home/jupyter/R/x86_64-pc-linux-gnu-library/4.2’\n",
      "(as ‘lib’ is unspecified)\n",
      "\n",
      "also installing the dependencies ‘pillar’, ‘cli’, ‘dplyr’, ‘hardhat’, ‘recipes’, ‘yardstick’\n",
      "\n",
      "\n",
      "Installing package into ‘/home/jupyter/R/x86_64-pc-linux-gnu-library/4.2’\n",
      "(as ‘lib’ is unspecified)\n",
      "\n",
      "Installing package into ‘/home/jupyter/R/x86_64-pc-linux-gnu-library/4.2’\n",
      "(as ‘lib’ is unspecified)\n",
      "\n",
      "also installing the dependency ‘mnormt’\n",
      "\n",
      "\n",
      "Installing package into ‘/home/jupyter/R/x86_64-pc-linux-gnu-library/4.2’\n",
      "(as ‘lib’ is unspecified)\n",
      "\n"
     ]
    }
   ],
   "source": [
    "#install required packages\n",
    "install.packages(\"tidyverse\")\n",
    " install.packages(\"ggplot2\")\n",
    " install.packages(\"tidymodels\")\n",
    " install.packages(\"readr\")\n",
    " install.packages(\"psych\")\n",
    " install.packages(\"corrplot\")"
   ]
  },
  {
   "cell_type": "code",
   "execution_count": 1,
   "id": "daaa29c1-eb81-4996-bd4f-7fbe2adfede4",
   "metadata": {
    "tags": []
   },
   "outputs": [
    {
     "name": "stderr",
     "output_type": "stream",
     "text": [
      "Warning message in system(\"timedatectl\", intern = TRUE):\n",
      "“running command 'timedatectl' had status 1”\n",
      "── \u001b[1mAttaching core tidyverse packages\u001b[22m ──────────────────────── tidyverse 2.0.0 ──\n",
      "\u001b[32m✔\u001b[39m \u001b[34mdplyr    \u001b[39m 1.1.2     \u001b[32m✔\u001b[39m \u001b[34mreadr    \u001b[39m 2.1.4\n",
      "\u001b[32m✔\u001b[39m \u001b[34mforcats  \u001b[39m 1.0.0     \u001b[32m✔\u001b[39m \u001b[34mstringr  \u001b[39m 1.5.0\n",
      "\u001b[32m✔\u001b[39m \u001b[34mggplot2  \u001b[39m 3.4.2     \u001b[32m✔\u001b[39m \u001b[34mtibble   \u001b[39m 3.2.1\n",
      "\u001b[32m✔\u001b[39m \u001b[34mlubridate\u001b[39m 1.9.2     \u001b[32m✔\u001b[39m \u001b[34mtidyr    \u001b[39m 1.3.0\n",
      "\u001b[32m✔\u001b[39m \u001b[34mpurrr    \u001b[39m 1.0.1     \n",
      "── \u001b[1mConflicts\u001b[22m ────────────────────────────────────────── tidyverse_conflicts() ──\n",
      "\u001b[31m✖\u001b[39m \u001b[34mdplyr\u001b[39m::\u001b[32mfilter()\u001b[39m masks \u001b[34mstats\u001b[39m::filter()\n",
      "\u001b[31m✖\u001b[39m \u001b[34mdplyr\u001b[39m::\u001b[32mlag()\u001b[39m    masks \u001b[34mstats\u001b[39m::lag()\n",
      "\u001b[36mℹ\u001b[39m Use the conflicted package (\u001b[3m\u001b[34m<http://conflicted.r-lib.org/>\u001b[39m\u001b[23m) to force all conflicts to become errors\n",
      "\n",
      "Attaching package: ‘psych’\n",
      "\n",
      "\n",
      "The following objects are masked from ‘package:ggplot2’:\n",
      "\n",
      "    %+%, alpha\n",
      "\n",
      "\n",
      "\n",
      "Attaching package: ‘gridExtra’\n",
      "\n",
      "\n",
      "The following object is masked from ‘package:dplyr’:\n",
      "\n",
      "    combine\n",
      "\n",
      "\n",
      "corrplot 0.92 loaded\n",
      "\n"
     ]
    },
    {
     "data": {
      "text/html": [
       "<pre class=language-r><code>function (expr) \n",
       "{\n",
       "<span style=white-space:pre-wrap>    enexpr(expr)</span>\n",
       "}</code></pre>"
      ],
      "text/latex": [
       "\\begin{minted}{r}\n",
       "function (expr) \n",
       "\\{\n",
       "    enexpr(expr)\n",
       "\\}\n",
       "\\end{minted}"
      ],
      "text/markdown": [
       "```r\n",
       "function (expr) \n",
       "{\n",
       "    enexpr(expr)\n",
       "}\n",
       "```"
      ],
      "text/plain": [
       "function (expr) \n",
       "{\n",
       "    enexpr(expr)\n",
       "}\n",
       "<bytecode: 0x55cc0a4841a0>\n",
       "<environment: namespace:rlang>"
      ]
     },
     "metadata": {},
     "output_type": "display_data"
    }
   ],
   "source": [
    "library(tidyverse)\n",
    "library(ggplot2)\n",
    "options(repr.matrix.max.rows = 6)\n",
    "library(repr)\n",
    "library(readr)\n",
    "library(psych)\n",
    "library(gridExtra)\n",
    "library(dplyr)\n",
    "library(broom)\n",
    "library(corrplot)\n",
    "library(infer)\n",
    "options(warn=-1)\n",
    "suppressWarnings(expr)"
   ]
  },
  {
   "cell_type": "code",
   "execution_count": 2,
   "id": "bfec1dab-7cd5-46be-8527-99f84d05c665",
   "metadata": {
    "tags": []
   },
   "outputs": [
    {
     "name": "stdout",
     "output_type": "stream",
     "text": [
      "[1] \"Figure #0: Hello, world!\"\n"
     ]
    }
   ],
   "source": [
    "# A helper function to generate figure numbers\n",
    "create_caption <- function (figure_number, title) {\n",
    "    print(paste(sprintf(\"Figure #%d:\", figure_number), title))\n",
    "}\n",
    "create_caption(0, \"Hello, world!\")"
   ]
  },
  {
   "cell_type": "code",
   "execution_count": 3,
   "id": "62bae0bb-4a0b-4bab-91e0-6d072641fc02",
   "metadata": {
    "tags": []
   },
   "outputs": [],
   "source": [
    "library(infer)"
   ]
  },
  {
   "cell_type": "code",
   "execution_count": 4,
   "id": "cd576edd-e6a7-4f6a-b657-5e3b25340175",
   "metadata": {
    "tags": []
   },
   "outputs": [],
   "source": [
    "# The seed used for the entirety of our analysis\n",
    "SEED <- 12345"
   ]
  },
  {
   "cell_type": "markdown",
   "id": "c881bc2b-e651-4abc-bf36-7d2272089c31",
   "metadata": {},
   "source": [
    "Impact of Romantic Relationships on Academic Performance in Secondary Education\n",
    "\n",
    "\n",
    "**Abstract** This study examines the impact of romantic relationships on academic performance among students by comparing two groups: those who are in romantic relationships and those who are not. "
   ]
  },
  {
   "cell_type": "markdown",
   "id": "2f0830d4-663a-4eca-be5c-b65811a3aa90",
   "metadata": {
    "jp-MarkdownHeadingCollapsed": true,
    "tags": []
   },
   "source": [
    "## I.Introduction\n",
    "\n",
    "#### 1.1. Background \n",
    "\n",
    "Romantic relationships during adolescence and young adulthood are a common and significant aspect of many students' lives. These relationships play a crucial role in the emotional and social development of young individuals, offering experiences that contribute to their personal growth and identity formation. As students navigate the complexities of academics and social interactions, the influence of romantic relationships on their academic performance has become a subject of interest for researchers and educators alike. While romantic relationships can foster emotional support and companionship, studies have indicated that they may also impact students' academic achievements. Some research suggests a negative correlation between young adult romantic relationships and academic performance (Hallfors et al., 2005). This negative association raises questions about how these relationships might affect students' dedication to their studies and engagement in learning activities.\n",
    "\n",
    "Moreover, recent studies have raised concerns about the potential risks associated with romantic involvement during adolescence. It has been reported that young adults involved in relationships are more likely to engage in risky behaviors, leading to compromised academic performance (Honghao et al., 2021). Such behaviors may include increased involvement in social activities or prioritizing time spent with their partners over study time.\n",
    "\n",
    "To shed light on the relationship between romantic involvement, study time, and academic performance, this study aims to compare two distinct groups of students: those who are in romantic relationships and those who are not. By analyzing the final grades of students in both groups and considering study time as a random variable, we intend to assess how these groups perform in exams. The response variable will be the mean final grade for each group, providing insights into any potential differences in academic performance.\n",
    "\n",
    "#### 1.2. Research Question\n",
    "\n",
    "- Does the romantic relationship status of students have a statistically significant impact on their academic performance? \n",
    "- Using inferential statistics, we aim to compare the mean final grades of students in romantic relationships and those who are not, while controlling for the random variable of study time.\n",
    "\n",
    "\n",
    "#### 1.3. Data set\n",
    "\n",
    "To support this analysis, we have selected a dataset from the Student Performance Data Set (https://archive.ics.uci.edu/dataset/320/student+performance). This dataset includes a wealth of information on students' academic achievements, study habits, and romantic relationship status. Through this study, we seek to contribute to the existing body of knowledge on the intersection of romantic relationships and academic performance, and potentially inform educational institutions and stakeholders on strategies to support students in achieving a balance between their personal lives and academic goals. Understanding the dynamics between romantic relationships and academic outcomes can help foster a conducive learning environment that nurtures both emotional well-being and scholastic excellence.\n",
    "\n",
    "\n",
    "We'll need four columns from the data set:\n",
    "\n",
    "| Column   | Description                                                                 | Notes                                               |\n",
    "|----------|-----------------------------------------------------------------------------|-----------------------------------------------------|\n",
    "| G3       | \"Final grade of the student\"                                               | We'll analyze this column as the response variable. |\n",
    "| studytime| \"Weekly study time (in hours)\"                                             | This column will serve as the random variable.      |\n",
    "| sex      | \"male or female\"                                                         | We'll consider gender as a categorical variable.    |\n",
    "| romantic | \"Indication of whether the student is involved in a romantic relationship\" | This column will be used to categorize the groups.  |\n",
    "\n",
    "\n",
    "#### 1.4. variables of interest:\n",
    "\n",
    "1. Romantic Relationship Status (romantic): This categorical variable indicates whether a student is involved in a romantic relationship or not. It will serve as our primary grouping factor for comparing academic performance.\n",
    "2. Final Grade (G3): This numeric variable represents the final grade of each student. We will analyze this variable to assess students' academic performance.\n",
    "3. Gender and duration of study are our auxiliary control variables.\n",
    "\n",
    "We will be studying the change of this value from 2017 to 2020 across three different Vancouver neighborhoods, each characteristic of a different level of wealth. Thus, our location parameter is a proportion with an error reported by its standard error, which can be computed via bootstrapping, asymptotics, or mathematically, with the formula:\n",
    "#### 1.5. Response variable parameters：\n",
    "1. Mean:\n",
    "Let G3 represent the final grade of students in our dataset. The mean of the final grades is denoted by the symbol μ, and it is calculated as follows:\n",
    "$$\n",
    "μ = (1/n) * Σ(G3i)                   \n",
    "$$\n",
    "Where n represents the number of students in the dataset, and G3i represents the final grade of each individual student.\n",
    "2. Standard Deviation：\n",
    "$$\n",
    "σ = √((1/n) * Σ(G3i - μ)²)               \n",
    "$$\n",
    "Where μ is the mean of the final grades, and G3i represents the final grade of each individual student.\n",
    "\n",
    "- These formulas will now consider the final grades (G3) as the variable of interest and allow us to calculate the mean and standard deviation for academic performance within each group (students in romantic relationships and those not in romantic relationships).\n"
   ]
  },
  {
   "cell_type": "markdown",
   "id": "eec0b708-ed54-4a6d-800b-5acaac376023",
   "metadata": {},
   "source": [
    "## II.Preliminary Results\n",
    "#### 2.1. The first is about reading and look data （Alrerady upload to Group 29 public Github repoositry)."
   ]
  },
  {
   "cell_type": "code",
   "execution_count": 5,
   "id": "0281f16a-a13f-4705-98d2-5ddf0ae68927",
   "metadata": {
    "tags": []
   },
   "outputs": [
    {
     "name": "stderr",
     "output_type": "stream",
     "text": [
      "\u001b[1mRows: \u001b[22m\u001b[34m395\u001b[39m \u001b[1mColumns: \u001b[22m\u001b[34m33\u001b[39m\n",
      "\u001b[36m──\u001b[39m \u001b[1mColumn specification\u001b[22m \u001b[36m────────────────────────────────────────────────────────\u001b[39m\n",
      "\u001b[1mDelimiter:\u001b[22m \";\"\n",
      "\u001b[31mchr\u001b[39m (17): school, sex, address, famsize, Pstatus, Mjob, Fjob, reason, guardi...\n",
      "\u001b[32mdbl\u001b[39m (16): age, Medu, Fedu, traveltime, studytime, failures, famrel, freetime...\n",
      "\n",
      "\u001b[36mℹ\u001b[39m Use `spec()` to retrieve the full column specification for this data.\n",
      "\u001b[36mℹ\u001b[39m Specify the column types or set `show_col_types = FALSE` to quiet this message.\n"
     ]
    },
    {
     "data": {
      "text/html": [
       "<table class=\"dataframe\">\n",
       "<caption>A tibble: 3 × 33</caption>\n",
       "<thead>\n",
       "\t<tr><th scope=col>school</th><th scope=col>sex</th><th scope=col>age</th><th scope=col>address</th><th scope=col>famsize</th><th scope=col>Pstatus</th><th scope=col>Medu</th><th scope=col>Fedu</th><th scope=col>Mjob</th><th scope=col>Fjob</th><th scope=col>⋯</th><th scope=col>famrel</th><th scope=col>freetime</th><th scope=col>goout</th><th scope=col>Dalc</th><th scope=col>Walc</th><th scope=col>health</th><th scope=col>absences</th><th scope=col>G1</th><th scope=col>G2</th><th scope=col>G3</th></tr>\n",
       "\t<tr><th scope=col>&lt;chr&gt;</th><th scope=col>&lt;chr&gt;</th><th scope=col>&lt;dbl&gt;</th><th scope=col>&lt;chr&gt;</th><th scope=col>&lt;chr&gt;</th><th scope=col>&lt;chr&gt;</th><th scope=col>&lt;dbl&gt;</th><th scope=col>&lt;dbl&gt;</th><th scope=col>&lt;chr&gt;</th><th scope=col>&lt;chr&gt;</th><th scope=col>⋯</th><th scope=col>&lt;dbl&gt;</th><th scope=col>&lt;dbl&gt;</th><th scope=col>&lt;dbl&gt;</th><th scope=col>&lt;dbl&gt;</th><th scope=col>&lt;dbl&gt;</th><th scope=col>&lt;dbl&gt;</th><th scope=col>&lt;dbl&gt;</th><th scope=col>&lt;dbl&gt;</th><th scope=col>&lt;dbl&gt;</th><th scope=col>&lt;dbl&gt;</th></tr>\n",
       "</thead>\n",
       "<tbody>\n",
       "\t<tr><td>GP</td><td>F</td><td>18</td><td>U</td><td>GT3</td><td>A</td><td>4</td><td>4</td><td>at_home</td><td>teacher</td><td>⋯</td><td>4</td><td>3</td><td>4</td><td>1</td><td>1</td><td>3</td><td> 6</td><td>5</td><td>6</td><td> 6</td></tr>\n",
       "\t<tr><td>GP</td><td>F</td><td>17</td><td>U</td><td>GT3</td><td>T</td><td>1</td><td>1</td><td>at_home</td><td>other  </td><td>⋯</td><td>5</td><td>3</td><td>3</td><td>1</td><td>1</td><td>3</td><td> 4</td><td>5</td><td>5</td><td> 6</td></tr>\n",
       "\t<tr><td>GP</td><td>F</td><td>15</td><td>U</td><td>LE3</td><td>T</td><td>1</td><td>1</td><td>at_home</td><td>other  </td><td>⋯</td><td>4</td><td>3</td><td>2</td><td>2</td><td>3</td><td>3</td><td>10</td><td>7</td><td>8</td><td>10</td></tr>\n",
       "</tbody>\n",
       "</table>\n"
      ],
      "text/latex": [
       "A tibble: 3 × 33\n",
       "\\begin{tabular}{lllllllllllllllllllll}\n",
       " school & sex & age & address & famsize & Pstatus & Medu & Fedu & Mjob & Fjob & ⋯ & famrel & freetime & goout & Dalc & Walc & health & absences & G1 & G2 & G3\\\\\n",
       " <chr> & <chr> & <dbl> & <chr> & <chr> & <chr> & <dbl> & <dbl> & <chr> & <chr> & ⋯ & <dbl> & <dbl> & <dbl> & <dbl> & <dbl> & <dbl> & <dbl> & <dbl> & <dbl> & <dbl>\\\\\n",
       "\\hline\n",
       "\t GP & F & 18 & U & GT3 & A & 4 & 4 & at\\_home & teacher & ⋯ & 4 & 3 & 4 & 1 & 1 & 3 &  6 & 5 & 6 &  6\\\\\n",
       "\t GP & F & 17 & U & GT3 & T & 1 & 1 & at\\_home & other   & ⋯ & 5 & 3 & 3 & 1 & 1 & 3 &  4 & 5 & 5 &  6\\\\\n",
       "\t GP & F & 15 & U & LE3 & T & 1 & 1 & at\\_home & other   & ⋯ & 4 & 3 & 2 & 2 & 3 & 3 & 10 & 7 & 8 & 10\\\\\n",
       "\\end{tabular}\n"
      ],
      "text/markdown": [
       "\n",
       "A tibble: 3 × 33\n",
       "\n",
       "| school &lt;chr&gt; | sex &lt;chr&gt; | age &lt;dbl&gt; | address &lt;chr&gt; | famsize &lt;chr&gt; | Pstatus &lt;chr&gt; | Medu &lt;dbl&gt; | Fedu &lt;dbl&gt; | Mjob &lt;chr&gt; | Fjob &lt;chr&gt; | ⋯ ⋯ | famrel &lt;dbl&gt; | freetime &lt;dbl&gt; | goout &lt;dbl&gt; | Dalc &lt;dbl&gt; | Walc &lt;dbl&gt; | health &lt;dbl&gt; | absences &lt;dbl&gt; | G1 &lt;dbl&gt; | G2 &lt;dbl&gt; | G3 &lt;dbl&gt; |\n",
       "|---|---|---|---|---|---|---|---|---|---|---|---|---|---|---|---|---|---|---|---|---|\n",
       "| GP | F | 18 | U | GT3 | A | 4 | 4 | at_home | teacher | ⋯ | 4 | 3 | 4 | 1 | 1 | 3 |  6 | 5 | 6 |  6 |\n",
       "| GP | F | 17 | U | GT3 | T | 1 | 1 | at_home | other   | ⋯ | 5 | 3 | 3 | 1 | 1 | 3 |  4 | 5 | 5 |  6 |\n",
       "| GP | F | 15 | U | LE3 | T | 1 | 1 | at_home | other   | ⋯ | 4 | 3 | 2 | 2 | 3 | 3 | 10 | 7 | 8 | 10 |\n",
       "\n"
      ],
      "text/plain": [
       "  school sex age address famsize Pstatus Medu Fedu Mjob    Fjob    ⋯ famrel\n",
       "1 GP     F   18  U       GT3     A       4    4    at_home teacher ⋯ 4     \n",
       "2 GP     F   17  U       GT3     T       1    1    at_home other   ⋯ 5     \n",
       "3 GP     F   15  U       LE3     T       1    1    at_home other   ⋯ 4     \n",
       "  freetime goout Dalc Walc health absences G1 G2 G3\n",
       "1 3        4     1    1    3       6       5  6   6\n",
       "2 3        3     1    1    3       4       5  5   6\n",
       "3 3        2     2    3    3      10       7  8  10"
      ]
     },
     "metadata": {},
     "output_type": "display_data"
    },
    {
     "data": {
      "text/html": [
       "<table class=\"dataframe\">\n",
       "<caption>A tibble: 3 × 33</caption>\n",
       "<thead>\n",
       "\t<tr><th scope=col>school</th><th scope=col>sex</th><th scope=col>age</th><th scope=col>address</th><th scope=col>famsize</th><th scope=col>Pstatus</th><th scope=col>Medu</th><th scope=col>Fedu</th><th scope=col>Mjob</th><th scope=col>Fjob</th><th scope=col>⋯</th><th scope=col>famrel</th><th scope=col>freetime</th><th scope=col>goout</th><th scope=col>Dalc</th><th scope=col>Walc</th><th scope=col>health</th><th scope=col>absences</th><th scope=col>G1</th><th scope=col>G2</th><th scope=col>G3</th></tr>\n",
       "\t<tr><th scope=col>&lt;chr&gt;</th><th scope=col>&lt;chr&gt;</th><th scope=col>&lt;dbl&gt;</th><th scope=col>&lt;chr&gt;</th><th scope=col>&lt;chr&gt;</th><th scope=col>&lt;chr&gt;</th><th scope=col>&lt;dbl&gt;</th><th scope=col>&lt;dbl&gt;</th><th scope=col>&lt;chr&gt;</th><th scope=col>&lt;chr&gt;</th><th scope=col>⋯</th><th scope=col>&lt;dbl&gt;</th><th scope=col>&lt;dbl&gt;</th><th scope=col>&lt;dbl&gt;</th><th scope=col>&lt;dbl&gt;</th><th scope=col>&lt;dbl&gt;</th><th scope=col>&lt;dbl&gt;</th><th scope=col>&lt;dbl&gt;</th><th scope=col>&lt;dbl&gt;</th><th scope=col>&lt;dbl&gt;</th><th scope=col>&lt;dbl&gt;</th></tr>\n",
       "</thead>\n",
       "<tbody>\n",
       "\t<tr><td>MS</td><td>M</td><td>21</td><td>R</td><td>GT3</td><td>T</td><td>1</td><td>1</td><td>other   </td><td>other  </td><td>⋯</td><td>5</td><td>5</td><td>3</td><td>3</td><td>3</td><td>3</td><td>3</td><td>10</td><td> 8</td><td> 7</td></tr>\n",
       "\t<tr><td>MS</td><td>M</td><td>18</td><td>R</td><td>LE3</td><td>T</td><td>3</td><td>2</td><td>services</td><td>other  </td><td>⋯</td><td>4</td><td>4</td><td>1</td><td>3</td><td>4</td><td>5</td><td>0</td><td>11</td><td>12</td><td>10</td></tr>\n",
       "\t<tr><td>MS</td><td>M</td><td>19</td><td>U</td><td>LE3</td><td>T</td><td>1</td><td>1</td><td>other   </td><td>at_home</td><td>⋯</td><td>3</td><td>2</td><td>3</td><td>3</td><td>3</td><td>5</td><td>5</td><td> 8</td><td> 9</td><td> 9</td></tr>\n",
       "</tbody>\n",
       "</table>\n"
      ],
      "text/latex": [
       "A tibble: 3 × 33\n",
       "\\begin{tabular}{lllllllllllllllllllll}\n",
       " school & sex & age & address & famsize & Pstatus & Medu & Fedu & Mjob & Fjob & ⋯ & famrel & freetime & goout & Dalc & Walc & health & absences & G1 & G2 & G3\\\\\n",
       " <chr> & <chr> & <dbl> & <chr> & <chr> & <chr> & <dbl> & <dbl> & <chr> & <chr> & ⋯ & <dbl> & <dbl> & <dbl> & <dbl> & <dbl> & <dbl> & <dbl> & <dbl> & <dbl> & <dbl>\\\\\n",
       "\\hline\n",
       "\t MS & M & 21 & R & GT3 & T & 1 & 1 & other    & other   & ⋯ & 5 & 5 & 3 & 3 & 3 & 3 & 3 & 10 &  8 &  7\\\\\n",
       "\t MS & M & 18 & R & LE3 & T & 3 & 2 & services & other   & ⋯ & 4 & 4 & 1 & 3 & 4 & 5 & 0 & 11 & 12 & 10\\\\\n",
       "\t MS & M & 19 & U & LE3 & T & 1 & 1 & other    & at\\_home & ⋯ & 3 & 2 & 3 & 3 & 3 & 5 & 5 &  8 &  9 &  9\\\\\n",
       "\\end{tabular}\n"
      ],
      "text/markdown": [
       "\n",
       "A tibble: 3 × 33\n",
       "\n",
       "| school &lt;chr&gt; | sex &lt;chr&gt; | age &lt;dbl&gt; | address &lt;chr&gt; | famsize &lt;chr&gt; | Pstatus &lt;chr&gt; | Medu &lt;dbl&gt; | Fedu &lt;dbl&gt; | Mjob &lt;chr&gt; | Fjob &lt;chr&gt; | ⋯ ⋯ | famrel &lt;dbl&gt; | freetime &lt;dbl&gt; | goout &lt;dbl&gt; | Dalc &lt;dbl&gt; | Walc &lt;dbl&gt; | health &lt;dbl&gt; | absences &lt;dbl&gt; | G1 &lt;dbl&gt; | G2 &lt;dbl&gt; | G3 &lt;dbl&gt; |\n",
       "|---|---|---|---|---|---|---|---|---|---|---|---|---|---|---|---|---|---|---|---|---|\n",
       "| MS | M | 21 | R | GT3 | T | 1 | 1 | other    | other   | ⋯ | 5 | 5 | 3 | 3 | 3 | 3 | 3 | 10 |  8 |  7 |\n",
       "| MS | M | 18 | R | LE3 | T | 3 | 2 | services | other   | ⋯ | 4 | 4 | 1 | 3 | 4 | 5 | 0 | 11 | 12 | 10 |\n",
       "| MS | M | 19 | U | LE3 | T | 1 | 1 | other    | at_home | ⋯ | 3 | 2 | 3 | 3 | 3 | 5 | 5 |  8 |  9 |  9 |\n",
       "\n"
      ],
      "text/plain": [
       "  school sex age address famsize Pstatus Medu Fedu Mjob     Fjob    ⋯ famrel\n",
       "1 MS     M   21  R       GT3     T       1    1    other    other   ⋯ 5     \n",
       "2 MS     M   18  R       LE3     T       3    2    services other   ⋯ 4     \n",
       "3 MS     M   19  U       LE3     T       1    1    other    at_home ⋯ 3     \n",
       "  freetime goout Dalc Walc health absences G1 G2 G3\n",
       "1 5        3     3    3    3      3        10  8  7\n",
       "2 4        1     3    4    5      0        11 12 10\n",
       "3 2        3     3    3    5      5         8  9  9"
      ]
     },
     "metadata": {},
     "output_type": "display_data"
    },
    {
     "name": "stdout",
     "output_type": "stream",
     "text": [
      "[1] \"Figure #1: Student Information Exploration.\"\n"
     ]
    }
   ],
   "source": [
    "url <- \"https://raw.githubusercontent.com/tiffanyw10/stat201/main/student-mat.csv\"\n",
    "student_data <- read_delim(url)\n",
    "head(student_data, n = 3)\n",
    "tail(student_data, n = 3)\n",
    "create_caption(1, \"Student Information Exploration.\")"
   ]
  },
  {
   "cell_type": "markdown",
   "id": "24239d77-e0a8-4d46-bb64-ace0378f5db8",
   "metadata": {},
   "source": [
    "#### 2.2. Data cleaning and viewing for missing values - We can see that there are no missing values."
   ]
  },
  {
   "cell_type": "code",
   "execution_count": 6,
   "id": "9f5137e3-d1cd-41f9-a1cd-9689cb702c7c",
   "metadata": {
    "tags": []
   },
   "outputs": [
    {
     "data": {
      "text/html": [
       "<style>\n",
       ".dl-inline {width: auto; margin:0; padding: 0}\n",
       ".dl-inline>dt, .dl-inline>dd {float: none; width: auto; display: inline-block}\n",
       ".dl-inline>dt::after {content: \":\\0020\"; padding-right: .5ex}\n",
       ".dl-inline>dt:not(:first-of-type) {padding-left: .5ex}\n",
       "</style><dl class=dl-inline><dt>school</dt><dd>0</dd><dt>sex</dt><dd>0</dd><dt>age</dt><dd>0</dd><dt>address</dt><dd>0</dd><dt>famsize</dt><dd>0</dd><dt>Pstatus</dt><dd>0</dd><dt>Medu</dt><dd>0</dd><dt>Fedu</dt><dd>0</dd><dt>Mjob</dt><dd>0</dd><dt>Fjob</dt><dd>0</dd><dt>reason</dt><dd>0</dd><dt>guardian</dt><dd>0</dd><dt>traveltime</dt><dd>0</dd><dt>studytime</dt><dd>0</dd><dt>failures</dt><dd>0</dd><dt>schoolsup</dt><dd>0</dd><dt>famsup</dt><dd>0</dd><dt>paid</dt><dd>0</dd><dt>activities</dt><dd>0</dd><dt>nursery</dt><dd>0</dd><dt>higher</dt><dd>0</dd><dt>internet</dt><dd>0</dd><dt>romantic</dt><dd>0</dd><dt>famrel</dt><dd>0</dd><dt>freetime</dt><dd>0</dd><dt>goout</dt><dd>0</dd><dt>Dalc</dt><dd>0</dd><dt>Walc</dt><dd>0</dd><dt>health</dt><dd>0</dd><dt>absences</dt><dd>0</dd><dt>G1</dt><dd>0</dd><dt>G2</dt><dd>0</dd><dt>G3</dt><dd>0</dd></dl>\n"
      ],
      "text/latex": [
       "\\begin{description*}\n",
       "\\item[school] 0\n",
       "\\item[sex] 0\n",
       "\\item[age] 0\n",
       "\\item[address] 0\n",
       "\\item[famsize] 0\n",
       "\\item[Pstatus] 0\n",
       "\\item[Medu] 0\n",
       "\\item[Fedu] 0\n",
       "\\item[Mjob] 0\n",
       "\\item[Fjob] 0\n",
       "\\item[reason] 0\n",
       "\\item[guardian] 0\n",
       "\\item[traveltime] 0\n",
       "\\item[studytime] 0\n",
       "\\item[failures] 0\n",
       "\\item[schoolsup] 0\n",
       "\\item[famsup] 0\n",
       "\\item[paid] 0\n",
       "\\item[activities] 0\n",
       "\\item[nursery] 0\n",
       "\\item[higher] 0\n",
       "\\item[internet] 0\n",
       "\\item[romantic] 0\n",
       "\\item[famrel] 0\n",
       "\\item[freetime] 0\n",
       "\\item[goout] 0\n",
       "\\item[Dalc] 0\n",
       "\\item[Walc] 0\n",
       "\\item[health] 0\n",
       "\\item[absences] 0\n",
       "\\item[G1] 0\n",
       "\\item[G2] 0\n",
       "\\item[G3] 0\n",
       "\\end{description*}\n"
      ],
      "text/markdown": [
       "school\n",
       ":   0sex\n",
       ":   0age\n",
       ":   0address\n",
       ":   0famsize\n",
       ":   0Pstatus\n",
       ":   0Medu\n",
       ":   0Fedu\n",
       ":   0Mjob\n",
       ":   0Fjob\n",
       ":   0reason\n",
       ":   0guardian\n",
       ":   0traveltime\n",
       ":   0studytime\n",
       ":   0failures\n",
       ":   0schoolsup\n",
       ":   0famsup\n",
       ":   0paid\n",
       ":   0activities\n",
       ":   0nursery\n",
       ":   0higher\n",
       ":   0internet\n",
       ":   0romantic\n",
       ":   0famrel\n",
       ":   0freetime\n",
       ":   0goout\n",
       ":   0Dalc\n",
       ":   0Walc\n",
       ":   0health\n",
       ":   0absences\n",
       ":   0G1\n",
       ":   0G2\n",
       ":   0G3\n",
       ":   0\n",
       "\n"
      ],
      "text/plain": [
       "    school        sex        age    address    famsize    Pstatus       Medu \n",
       "         0          0          0          0          0          0          0 \n",
       "      Fedu       Mjob       Fjob     reason   guardian traveltime  studytime \n",
       "         0          0          0          0          0          0          0 \n",
       "  failures  schoolsup     famsup       paid activities    nursery     higher \n",
       "         0          0          0          0          0          0          0 \n",
       "  internet   romantic     famrel   freetime      goout       Dalc       Walc \n",
       "         0          0          0          0          0          0          0 \n",
       "    health   absences         G1         G2         G3 \n",
       "         0          0          0          0          0 "
      ]
     },
     "metadata": {},
     "output_type": "display_data"
    }
   ],
   "source": [
    "# Count the number of missing values in each column\n",
    "missing_values_per_column <- colSums(is.na(student_data))\n",
    "# Print the columns with their respective counts of missing values\n",
    "missing_values_per_column"
   ]
  },
  {
   "cell_type": "markdown",
   "id": "44af009d-b940-4355-91b6-196c618700cf",
   "metadata": {},
   "source": [
    "Our data is already of the Tidy type. By tidy, we're verifying (from the DSCI 100 course textbook [[Data Science: A First Introduction, 12]](https://ubc-dsci.github.io/introduction-to-datascience/): \n",
    "> * each row is a single observation,\n",
    "> * each column is a single variable, and\n",
    "> * each value is a single cell\n",
    "> * no miss\n",
    "\n",
    "Also, This data is without missing values, according to the website description (https://archive.ics.uci.edu/dataset/320/student+performance)."
   ]
  },
  {
   "cell_type": "markdown",
   "id": "2c0f9dae-c06f-4712-81dd-20cf7b57a19c",
   "metadata": {},
   "source": [
    "#### 2.3. Establishing sample for further research"
   ]
  },
  {
   "cell_type": "code",
   "execution_count": 7,
   "id": "a8e4e15f-de15-4cfa-95bc-94b3afe326a1",
   "metadata": {
    "tags": []
   },
   "outputs": [
    {
     "data": {
      "text/html": [
       "<table class=\"dataframe\">\n",
       "<caption>A grouped_df: 50 × 34</caption>\n",
       "<thead>\n",
       "\t<tr><th scope=col>replicate</th><th scope=col>school</th><th scope=col>sex</th><th scope=col>age</th><th scope=col>address</th><th scope=col>famsize</th><th scope=col>Pstatus</th><th scope=col>Medu</th><th scope=col>Fedu</th><th scope=col>Mjob</th><th scope=col>⋯</th><th scope=col>famrel</th><th scope=col>freetime</th><th scope=col>goout</th><th scope=col>Dalc</th><th scope=col>Walc</th><th scope=col>health</th><th scope=col>absences</th><th scope=col>G1</th><th scope=col>G2</th><th scope=col>G3</th></tr>\n",
       "\t<tr><th scope=col>&lt;int&gt;</th><th scope=col>&lt;chr&gt;</th><th scope=col>&lt;chr&gt;</th><th scope=col>&lt;dbl&gt;</th><th scope=col>&lt;chr&gt;</th><th scope=col>&lt;chr&gt;</th><th scope=col>&lt;chr&gt;</th><th scope=col>&lt;dbl&gt;</th><th scope=col>&lt;dbl&gt;</th><th scope=col>&lt;chr&gt;</th><th scope=col>⋯</th><th scope=col>&lt;dbl&gt;</th><th scope=col>&lt;dbl&gt;</th><th scope=col>&lt;dbl&gt;</th><th scope=col>&lt;dbl&gt;</th><th scope=col>&lt;dbl&gt;</th><th scope=col>&lt;dbl&gt;</th><th scope=col>&lt;dbl&gt;</th><th scope=col>&lt;dbl&gt;</th><th scope=col>&lt;dbl&gt;</th><th scope=col>&lt;dbl&gt;</th></tr>\n",
       "</thead>\n",
       "<tbody>\n",
       "\t<tr><td>1</td><td>GP</td><td>M</td><td>16</td><td>R</td><td>GT3</td><td>T</td><td>4</td><td>2</td><td>teacher</td><td>⋯</td><td>4</td><td>3</td><td>3</td><td>3</td><td>4</td><td>3</td><td>10</td><td>10</td><td> 8</td><td> 9</td></tr>\n",
       "\t<tr><td>1</td><td>GP</td><td>M</td><td>15</td><td>U</td><td>GT3</td><td>T</td><td>4</td><td>3</td><td>teacher</td><td>⋯</td><td>5</td><td>4</td><td>3</td><td>1</td><td>2</td><td>3</td><td> 2</td><td>10</td><td>10</td><td>11</td></tr>\n",
       "\t<tr><td>1</td><td>GP</td><td>M</td><td>16</td><td>U</td><td>GT3</td><td>T</td><td>2</td><td>3</td><td>other  </td><td>⋯</td><td>5</td><td>3</td><td>3</td><td>1</td><td>1</td><td>3</td><td> 0</td><td>13</td><td>14</td><td>14</td></tr>\n",
       "\t<tr><td>⋮</td><td>⋮</td><td>⋮</td><td>⋮</td><td>⋮</td><td>⋮</td><td>⋮</td><td>⋮</td><td>⋮</td><td>⋮</td><td>⋱</td><td>⋮</td><td>⋮</td><td>⋮</td><td>⋮</td><td>⋮</td><td>⋮</td><td>⋮</td><td>⋮</td><td>⋮</td><td>⋮</td></tr>\n",
       "\t<tr><td>1</td><td>GP</td><td>M</td><td>15</td><td>U</td><td>GT3</td><td>T</td><td>4</td><td>3</td><td>teacher</td><td>⋯</td><td>2</td><td>2</td><td>2</td><td>1</td><td>1</td><td>3</td><td> 0</td><td>7</td><td>9</td><td>0</td></tr>\n",
       "\t<tr><td>1</td><td>GP</td><td>F</td><td>17</td><td>R</td><td>GT3</td><td>T</td><td>4</td><td>3</td><td>teacher</td><td>⋯</td><td>4</td><td>4</td><td>2</td><td>1</td><td>1</td><td>4</td><td> 6</td><td>7</td><td>7</td><td>7</td></tr>\n",
       "\t<tr><td>1</td><td>MS</td><td>M</td><td>18</td><td>R</td><td>GT3</td><td>T</td><td>4</td><td>2</td><td>other  </td><td>⋯</td><td>5</td><td>4</td><td>3</td><td>4</td><td>3</td><td>3</td><td>14</td><td>6</td><td>5</td><td>5</td></tr>\n",
       "</tbody>\n",
       "</table>\n"
      ],
      "text/latex": [
       "A grouped\\_df: 50 × 34\n",
       "\\begin{tabular}{lllllllllllllllllllll}\n",
       " replicate & school & sex & age & address & famsize & Pstatus & Medu & Fedu & Mjob & ⋯ & famrel & freetime & goout & Dalc & Walc & health & absences & G1 & G2 & G3\\\\\n",
       " <int> & <chr> & <chr> & <dbl> & <chr> & <chr> & <chr> & <dbl> & <dbl> & <chr> & ⋯ & <dbl> & <dbl> & <dbl> & <dbl> & <dbl> & <dbl> & <dbl> & <dbl> & <dbl> & <dbl>\\\\\n",
       "\\hline\n",
       "\t 1 & GP & M & 16 & R & GT3 & T & 4 & 2 & teacher & ⋯ & 4 & 3 & 3 & 3 & 4 & 3 & 10 & 10 &  8 &  9\\\\\n",
       "\t 1 & GP & M & 15 & U & GT3 & T & 4 & 3 & teacher & ⋯ & 5 & 4 & 3 & 1 & 2 & 3 &  2 & 10 & 10 & 11\\\\\n",
       "\t 1 & GP & M & 16 & U & GT3 & T & 2 & 3 & other   & ⋯ & 5 & 3 & 3 & 1 & 1 & 3 &  0 & 13 & 14 & 14\\\\\n",
       "\t ⋮ & ⋮ & ⋮ & ⋮ & ⋮ & ⋮ & ⋮ & ⋮ & ⋮ & ⋮ & ⋱ & ⋮ & ⋮ & ⋮ & ⋮ & ⋮ & ⋮ & ⋮ & ⋮ & ⋮ & ⋮\\\\\n",
       "\t 1 & GP & M & 15 & U & GT3 & T & 4 & 3 & teacher & ⋯ & 2 & 2 & 2 & 1 & 1 & 3 &  0 & 7 & 9 & 0\\\\\n",
       "\t 1 & GP & F & 17 & R & GT3 & T & 4 & 3 & teacher & ⋯ & 4 & 4 & 2 & 1 & 1 & 4 &  6 & 7 & 7 & 7\\\\\n",
       "\t 1 & MS & M & 18 & R & GT3 & T & 4 & 2 & other   & ⋯ & 5 & 4 & 3 & 4 & 3 & 3 & 14 & 6 & 5 & 5\\\\\n",
       "\\end{tabular}\n"
      ],
      "text/markdown": [
       "\n",
       "A grouped_df: 50 × 34\n",
       "\n",
       "| replicate &lt;int&gt; | school &lt;chr&gt; | sex &lt;chr&gt; | age &lt;dbl&gt; | address &lt;chr&gt; | famsize &lt;chr&gt; | Pstatus &lt;chr&gt; | Medu &lt;dbl&gt; | Fedu &lt;dbl&gt; | Mjob &lt;chr&gt; | ⋯ ⋯ | famrel &lt;dbl&gt; | freetime &lt;dbl&gt; | goout &lt;dbl&gt; | Dalc &lt;dbl&gt; | Walc &lt;dbl&gt; | health &lt;dbl&gt; | absences &lt;dbl&gt; | G1 &lt;dbl&gt; | G2 &lt;dbl&gt; | G3 &lt;dbl&gt; |\n",
       "|---|---|---|---|---|---|---|---|---|---|---|---|---|---|---|---|---|---|---|---|---|\n",
       "| 1 | GP | M | 16 | R | GT3 | T | 4 | 2 | teacher | ⋯ | 4 | 3 | 3 | 3 | 4 | 3 | 10 | 10 |  8 |  9 |\n",
       "| 1 | GP | M | 15 | U | GT3 | T | 4 | 3 | teacher | ⋯ | 5 | 4 | 3 | 1 | 2 | 3 |  2 | 10 | 10 | 11 |\n",
       "| 1 | GP | M | 16 | U | GT3 | T | 2 | 3 | other   | ⋯ | 5 | 3 | 3 | 1 | 1 | 3 |  0 | 13 | 14 | 14 |\n",
       "| ⋮ | ⋮ | ⋮ | ⋮ | ⋮ | ⋮ | ⋮ | ⋮ | ⋮ | ⋮ | ⋱ | ⋮ | ⋮ | ⋮ | ⋮ | ⋮ | ⋮ | ⋮ | ⋮ | ⋮ | ⋮ |\n",
       "| 1 | GP | M | 15 | U | GT3 | T | 4 | 3 | teacher | ⋯ | 2 | 2 | 2 | 1 | 1 | 3 |  0 | 7 | 9 | 0 |\n",
       "| 1 | GP | F | 17 | R | GT3 | T | 4 | 3 | teacher | ⋯ | 4 | 4 | 2 | 1 | 1 | 4 |  6 | 7 | 7 | 7 |\n",
       "| 1 | MS | M | 18 | R | GT3 | T | 4 | 2 | other   | ⋯ | 5 | 4 | 3 | 4 | 3 | 3 | 14 | 6 | 5 | 5 |\n",
       "\n"
      ],
      "text/plain": [
       "   replicate school sex age address famsize Pstatus Medu Fedu Mjob    ⋯ famrel\n",
       "1  1         GP     M   16  R       GT3     T       4    2    teacher ⋯ 4     \n",
       "2  1         GP     M   15  U       GT3     T       4    3    teacher ⋯ 5     \n",
       "3  1         GP     M   16  U       GT3     T       2    3    other   ⋯ 5     \n",
       "⋮  ⋮         ⋮      ⋮   ⋮   ⋮       ⋮       ⋮       ⋮    ⋮    ⋮       ⋱ ⋮     \n",
       "48 1         GP     M   15  U       GT3     T       4    3    teacher ⋯ 2     \n",
       "49 1         GP     F   17  R       GT3     T       4    3    teacher ⋯ 4     \n",
       "50 1         MS     M   18  R       GT3     T       4    2    other   ⋯ 5     \n",
       "   freetime goout Dalc Walc health absences G1 G2 G3\n",
       "1  3        3     3    4    3      10       10  8  9\n",
       "2  4        3     1    2    3       2       10 10 11\n",
       "3  3        3     1    1    3       0       13 14 14\n",
       "⋮  ⋮        ⋮     ⋮    ⋮    ⋮      ⋮        ⋮  ⋮  ⋮ \n",
       "48 2        2     1    1    3       0       7  9  0 \n",
       "49 4        2     1    1    4       6       7  7  7 \n",
       "50 4        3     4    3    3      14       6  5  5 "
      ]
     },
     "metadata": {},
     "output_type": "display_data"
    },
    {
     "name": "stdout",
     "output_type": "stream",
     "text": [
      "[1] \"Figure #2: sample_data.\"\n"
     ]
    }
   ],
   "source": [
    "set.seed(123)\n",
    "# Create a random sample of size 50 from the student_data dataset without replacement\n",
    "sample_data <- rep_sample_n(student_data, size = 50, replace = FALSE)\n",
    "\n",
    "# Display the randomly sampled data\n",
    "sample_data\n",
    "create_caption(2, \"sample_data.\")"
   ]
  },
  {
   "cell_type": "code",
   "execution_count": 8,
   "id": "218b73e6-fbb6-4b70-b1da-3c0b2e1bc6d6",
   "metadata": {
    "tags": []
   },
   "outputs": [
    {
     "name": "stdout",
     "output_type": "stream",
     "text": [
      "[1] \"Figure #3: sample distribution of g3 grades.\"\n"
     ]
    },
    {
     "data": {
      "image/png": "[encoded data removed]",
      "text/plain": [
       "plot without title"
      ]
     },
     "metadata": {
      "image/png": {
       "height": 420,
       "width": 420
      }
     },
     "output_type": "display_data"
    }
   ],
   "source": [
    "set.seed(123)\n",
    "\n",
    "# Create a histogram to visualize the distribution of G3 grades\n",
    "sample_dist <- ggplot(sample_data, aes(x = G3)) +\n",
    "  geom_histogram(binwidth = 1, fill = \"blue\", color = \"white\", alpha = 0.7) +\n",
    "  \n",
    "  # Add title and axis labels\n",
    "  labs(title = \"Distribution of G3 Grades\", x = \"G3 Grade\", y = \"Number of Students\") +\n",
    "  \n",
    "  # Use a minimal theme\n",
    "  theme_minimal()\n",
    "\n",
    "# Display the histogram\n",
    "sample_dist\n",
    "create_caption(3, \"sample distribution of g3 grades.\")"
   ]
  },
  {
   "cell_type": "markdown",
   "id": "0c28a771-e31c-4e5a-99c4-70db30968be9",
   "metadata": {},
   "source": [
    "#### 2.4. New samples using the bootstrap method"
   ]
  },
  {
   "cell_type": "code",
   "execution_count": 9,
   "id": "e0e16cef-fc65-4de6-8572-508cb7a25573",
   "metadata": {
    "tags": []
   },
   "outputs": [
    {
     "name": "stdout",
     "output_type": "stream",
     "text": [
      "[1] \"Figure #4: bootstrap distribution of g3 grades.\"\n"
     ]
    },
    {
     "data": {
      "image/png": "[encoded data removed]",
      "text/plain": [
       "plot without title"
      ]
     },
     "metadata": {
      "image/png": {
       "height": 420,
       "width": 420
      }
     },
     "output_type": "display_data"
    }
   ],
   "source": [
    "# Set the random number generator seed for reproducibility\n",
    "set.seed(123)\n",
    "\n",
    "# Create a bootstrap sample with replacement\n",
    "bootstrap_sample <- rep_sample_n(sample_data, size = 50, replace = TRUE, reps = 1000)\n",
    "\n",
    "# Calculate means for each replicate\n",
    "bootstrap_means <- bootstrap_sample %>%\n",
    "  group_by(replicate) %>%\n",
    "  summarise(mean_G3 = mean(G3))\n",
    "\n",
    "# Calculate the overall mean of the bootstrap means\n",
    "overall_mean <- mean(bootstrap_means$mean_G3)\n",
    "\n",
    "# Create a histogram to visualize the bootstrap distribution of means\n",
    "bootstrap_dist <- ggplot(bootstrap_means, aes(x = mean_G3)) +\n",
    "  geom_histogram(binwidth = 0.1, fill = \"red\", color = \"white\", alpha = 0.7) +\n",
    "  geom_vline(aes(xintercept = overall_mean), color = \"blue\", size = 1) + \n",
    "  annotate(\"text\", x = overall_mean, y = Inf, label = paste(\"Mean =\", round(overall_mean, 2)), \n",
    "           vjust = 2, hjust = 1.5, color = \"blue\") +\n",
    "  labs(title = \"Bootstrap Distribution of G3 Means\", x = \"Mean G3 Grade\", y = \"Frequency\") +\n",
    "  theme_minimal()\n",
    "\n",
    "# Display the bootstrap distribution plot\n",
    "bootstrap_dist\n",
    "create_caption(4, \"bootstrap distribution of g3 grades.\")"
   ]
  },
  {
   "cell_type": "markdown",
   "id": "ba2c8eef-8947-4b55-8252-3814b5a6c079",
   "metadata": {},
   "source": [
    "#### 2.5.Next we would like to explore some descriptive statistics for our numerical variables.\n",
    "- We will use the psych library in our data analysis to perform various statistical computations and analyses related to the variables of interest.\n",
    "- This library provides useful functions for calculating descriptive statistics, including means and standard deviations, as well as conducting hypothesis testing and factor analysis to gain deeper insights into the relationship between romantic relationship status and academic performance. By leveraging the capabilities of the psych library, we can ensure robust and reliable results for our research (https://cran.r-project.org/web/packages/psych/index.html)."
   ]
  },
  {
   "cell_type": "code",
   "execution_count": 10,
   "id": "9563f918-0e29-483b-8322-d764bbbcfbdc",
   "metadata": {
    "tags": []
   },
   "outputs": [
    {
     "data": {
      "text/html": [
       "<table class=\"dataframe\">\n",
       "<caption>A tibble: 50000 × 2</caption>\n",
       "<thead>\n",
       "\t<tr><th scope=col>G3</th><th scope=col>studytime</th></tr>\n",
       "\t<tr><th scope=col>&lt;dbl&gt;</th><th scope=col>&lt;dbl&gt;</th></tr>\n",
       "</thead>\n",
       "<tbody>\n",
       "\t<tr><td>11</td><td>3</td></tr>\n",
       "\t<tr><td>16</td><td>1</td></tr>\n",
       "\t<tr><td> 8</td><td>1</td></tr>\n",
       "\t<tr><td>⋮</td><td>⋮</td></tr>\n",
       "\t<tr><td> 8</td><td>1</td></tr>\n",
       "\t<tr><td>10</td><td>1</td></tr>\n",
       "\t<tr><td>16</td><td>1</td></tr>\n",
       "</tbody>\n",
       "</table>\n"
      ],
      "text/latex": [
       "A tibble: 50000 × 2\n",
       "\\begin{tabular}{ll}\n",
       " G3 & studytime\\\\\n",
       " <dbl> & <dbl>\\\\\n",
       "\\hline\n",
       "\t 11 & 3\\\\\n",
       "\t 16 & 1\\\\\n",
       "\t  8 & 1\\\\\n",
       "\t ⋮ & ⋮\\\\\n",
       "\t  8 & 1\\\\\n",
       "\t 10 & 1\\\\\n",
       "\t 16 & 1\\\\\n",
       "\\end{tabular}\n"
      ],
      "text/markdown": [
       "\n",
       "A tibble: 50000 × 2\n",
       "\n",
       "| G3 &lt;dbl&gt; | studytime &lt;dbl&gt; |\n",
       "|---|---|\n",
       "| 11 | 3 |\n",
       "| 16 | 1 |\n",
       "|  8 | 1 |\n",
       "| ⋮ | ⋮ |\n",
       "|  8 | 1 |\n",
       "| 10 | 1 |\n",
       "| 16 | 1 |\n",
       "\n"
      ],
      "text/plain": [
       "      G3 studytime\n",
       "1     11 3        \n",
       "2     16 1        \n",
       "3      8 1        \n",
       "⋮     ⋮  ⋮        \n",
       "49998  8 1        \n",
       "49999 10 1        \n",
       "50000 16 1        "
      ]
     },
     "metadata": {},
     "output_type": "display_data"
    },
    {
     "name": "stdout",
     "output_type": "stream",
     "text": [
      "[1] \"Figure #5: numerical_columns.\"\n"
     ]
    }
   ],
   "source": [
    "# filter the data and only for columns we want look stat describe\n",
    "numerical_columns <- bootstrap_sample %>%\n",
    "    ungroup() %>%\n",
    "    select(G3, studytime)\n",
    "numerical_columns\n",
    "create_caption(5, \"numerical_columns.\")"
   ]
  },
  {
   "cell_type": "code",
   "execution_count": 11,
   "id": "34e3aaeb-8464-4938-ae15-7711887740a1",
   "metadata": {
    "tags": []
   },
   "outputs": [
    {
     "data": {
      "text/html": [
       "<table class=\"dataframe\">\n",
       "<caption>A psych: 2 × 13</caption>\n",
       "<thead>\n",
       "\t<tr><th></th><th scope=col>vars</th><th scope=col>n</th><th scope=col>mean</th><th scope=col>sd</th><th scope=col>median</th><th scope=col>trimmed</th><th scope=col>mad</th><th scope=col>min</th><th scope=col>max</th><th scope=col>range</th><th scope=col>skew</th><th scope=col>kurtosis</th><th scope=col>se</th></tr>\n",
       "\t<tr><th></th><th scope=col>&lt;int&gt;</th><th scope=col>&lt;dbl&gt;</th><th scope=col>&lt;dbl&gt;</th><th scope=col>&lt;dbl&gt;</th><th scope=col>&lt;dbl&gt;</th><th scope=col>&lt;dbl&gt;</th><th scope=col>&lt;dbl&gt;</th><th scope=col>&lt;dbl&gt;</th><th scope=col>&lt;dbl&gt;</th><th scope=col>&lt;dbl&gt;</th><th scope=col>&lt;dbl&gt;</th><th scope=col>&lt;dbl&gt;</th><th scope=col>&lt;dbl&gt;</th></tr>\n",
       "</thead>\n",
       "<tbody>\n",
       "\t<tr><th scope=row>G3</th><td>1</td><td>50000</td><td>10.19446</td><td>3.9122872</td><td>10</td><td>10.4695</td><td>2.9652</td><td>0</td><td>18</td><td>18</td><td>-0.7328710</td><td> 0.8686991</td><td>0.017496280</td></tr>\n",
       "\t<tr><th scope=row>studytime</th><td>2</td><td>50000</td><td> 2.11664</td><td>0.9713156</td><td> 2</td><td> 2.0208</td><td>1.4826</td><td>1</td><td> 4</td><td> 3</td><td> 0.5481132</td><td>-0.6629552</td><td>0.004343855</td></tr>\n",
       "</tbody>\n",
       "</table>\n"
      ],
      "text/latex": [
       "A psych: 2 × 13\n",
       "\\begin{tabular}{r|lllllllllllll}\n",
       "  & vars & n & mean & sd & median & trimmed & mad & min & max & range & skew & kurtosis & se\\\\\n",
       "  & <int> & <dbl> & <dbl> & <dbl> & <dbl> & <dbl> & <dbl> & <dbl> & <dbl> & <dbl> & <dbl> & <dbl> & <dbl>\\\\\n",
       "\\hline\n",
       "\tG3 & 1 & 50000 & 10.19446 & 3.9122872 & 10 & 10.4695 & 2.9652 & 0 & 18 & 18 & -0.7328710 &  0.8686991 & 0.017496280\\\\\n",
       "\tstudytime & 2 & 50000 &  2.11664 & 0.9713156 &  2 &  2.0208 & 1.4826 & 1 &  4 &  3 &  0.5481132 & -0.6629552 & 0.004343855\\\\\n",
       "\\end{tabular}\n"
      ],
      "text/markdown": [
       "\n",
       "A psych: 2 × 13\n",
       "\n",
       "| <!--/--> | vars &lt;int&gt; | n &lt;dbl&gt; | mean &lt;dbl&gt; | sd &lt;dbl&gt; | median &lt;dbl&gt; | trimmed &lt;dbl&gt; | mad &lt;dbl&gt; | min &lt;dbl&gt; | max &lt;dbl&gt; | range &lt;dbl&gt; | skew &lt;dbl&gt; | kurtosis &lt;dbl&gt; | se &lt;dbl&gt; |\n",
       "|---|---|---|---|---|---|---|---|---|---|---|---|---|---|\n",
       "| G3 | 1 | 50000 | 10.19446 | 3.9122872 | 10 | 10.4695 | 2.9652 | 0 | 18 | 18 | -0.7328710 |  0.8686991 | 0.017496280 |\n",
       "| studytime | 2 | 50000 |  2.11664 | 0.9713156 |  2 |  2.0208 | 1.4826 | 1 |  4 |  3 |  0.5481132 | -0.6629552 | 0.004343855 |\n",
       "\n"
      ],
      "text/plain": [
       "          vars n     mean     sd        median trimmed mad    min max range\n",
       "G3        1    50000 10.19446 3.9122872 10     10.4695 2.9652 0   18  18   \n",
       "studytime 2    50000  2.11664 0.9713156  2      2.0208 1.4826 1    4   3   \n",
       "          skew       kurtosis   se         \n",
       "G3        -0.7328710  0.8686991 0.017496280\n",
       "studytime  0.5481132 -0.6629552 0.004343855"
      ]
     },
     "metadata": {},
     "output_type": "display_data"
    },
    {
     "name": "stdout",
     "output_type": "stream",
     "text": [
      "[1] \"Figure #6: Variable stat summary.\"\n"
     ]
    }
   ],
   "source": [
    "# use describe and assign the result to a variable\n",
    "# here we use library psych ,this is a library commonly used in cognitive science to explain statistical variables.\n",
    "student_data_desc <- psych::describe(numerical_columns)\n",
    "student_data_desc\n",
    "create_caption(6, \"Variable stat summary.\")"
   ]
  },
  {
   "cell_type": "markdown",
   "id": "9f10d27d-b8c9-424c-bee2-41eeb1a4c543",
   "metadata": {},
   "source": [
    "#### 2.6. Let's examine the distribution of students' gender and their relationship status to further analyze the data."
   ]
  },
  {
   "cell_type": "code",
   "execution_count": 12,
   "id": "feca8cc5-464a-4853-82ea-a2ebfb1a907c",
   "metadata": {
    "tags": []
   },
   "outputs": [
    {
     "data": {
      "text/html": [
       "<table class=\"dataframe\">\n",
       "<caption>A tibble: 2 × 2</caption>\n",
       "<thead>\n",
       "\t<tr><th scope=col>romantic</th><th scope=col>n</th></tr>\n",
       "\t<tr><th scope=col>&lt;chr&gt;</th><th scope=col>&lt;int&gt;</th></tr>\n",
       "</thead>\n",
       "<tbody>\n",
       "\t<tr><td>no </td><td>33059</td></tr>\n",
       "\t<tr><td>yes</td><td>16941</td></tr>\n",
       "</tbody>\n",
       "</table>\n"
      ],
      "text/latex": [
       "A tibble: 2 × 2\n",
       "\\begin{tabular}{ll}\n",
       " romantic & n\\\\\n",
       " <chr> & <int>\\\\\n",
       "\\hline\n",
       "\t no  & 33059\\\\\n",
       "\t yes & 16941\\\\\n",
       "\\end{tabular}\n"
      ],
      "text/markdown": [
       "\n",
       "A tibble: 2 × 2\n",
       "\n",
       "| romantic &lt;chr&gt; | n &lt;int&gt; |\n",
       "|---|---|\n",
       "| no  | 33059 |\n",
       "| yes | 16941 |\n",
       "\n"
      ],
      "text/plain": [
       "  romantic n    \n",
       "1 no       33059\n",
       "2 yes      16941"
      ]
     },
     "metadata": {},
     "output_type": "display_data"
    },
    {
     "name": "stdout",
     "output_type": "stream",
     "text": [
      "[1] \"Figure #7: Romantic status counts\"\n"
     ]
    }
   ],
   "source": [
    "# Calculate the count of observations for each level of the \"romantic\" variable\n",
    "romantic_count <- bootstrap_sample %>%\n",
    "  group_by(romantic) %>%\n",
    "  summarise(n = n(), .groups = 'drop')\n",
    "\n",
    "# Display the count of observations for each level of \"romantic\"\n",
    "romantic_count\n",
    "create_caption(7, \"Romantic status counts\")"
   ]
  },
  {
   "cell_type": "code",
   "execution_count": 13,
   "id": "f82b162c-f49e-45ca-ac0f-efc7458b4dd3",
   "metadata": {
    "tags": []
   },
   "outputs": [
    {
     "data": {
      "text/plain": [
       "\n",
       "    F     M \n",
       "15941 34059 "
      ]
     },
     "metadata": {},
     "output_type": "display_data"
    }
   ],
   "source": [
    "# Next we look at the different gender distributions\n",
    "gender_distribution <- table(bootstrap_sample$sex)\n",
    "gender_distribution"
   ]
  },
  {
   "cell_type": "markdown",
   "id": "e9173d0c-c714-4769-b2a8-386d858d57ec",
   "metadata": {},
   "source": [
    "#### 2.7. Data Visualization\n",
    "In this section, we have conducted data visualization to explore the dynamics between students' gender, study time, and romantic relationship status. The visualizations provide valuable insights into the following aspects:\n",
    "\n",
    "- Romantic Relationship Status by Gender:\n",
    "This bar plot allows us to examine the proportion of male and female students engaged in romantic relationships. By comparing the two groups, we can identify any gender-related differences in romantic involvement, helping us understand the distribution of relationship statuses across genders.\n",
    "\n",
    "- Distribution of Study Time for Students in Romantic Relationships:\n",
    "Through a grouped bar plot, we analyze the study time distribution for students in romantic relationships. This visualization helps us observe the study habits of students who are romantically involved and uncover any trends or patterns in their study time allocation.\n",
    "\n",
    "- Average Study Time for All Students:\n",
    "The histogram illustrates the overall distribution of average study time among all students in the dataset. This visualization allows us to grasp the central tendency of study time across the entire student population, aiding in identifying the typical study patterns.\n",
    "\n",
    "- istribution of Students in Romantic Relationships:\n",
    "By utilizing a bar plot, we explore the count of students categorized based on their romantic relationship status. This visualization provides a clear comparison between students in romantic relationships and those not in relationships, highlighting the prevalence of romantic involvement among the students.\n",
    "\n",
    "These visualizations serve as valuable exploratory tools to understand the data's characteristics and lay the foundation for further statistical analyses. They help us identify potential trends, associations, and patterns, which will be instrumental in addressing our research question regarding the impact of romantic relationship status on students' academic performance."
   ]
  },
  {
   "cell_type": "code",
   "execution_count": 14,
   "id": "b47d493a-7388-468e-a667-b7a216b91051",
   "metadata": {},
   "outputs": [
    {
     "name": "stderr",
     "output_type": "stream",
     "text": [
      "\u001b[1m\u001b[22m`summarise()` has grouped output by 'sex'. You can override using the `.groups`\n",
      "argument.\n"
     ]
    },
    {
     "name": "stdout",
     "output_type": "stream",
     "text": [
      "[1] \"Figure #8: Data exploration and main distribution visualization\"\n"
     ]
    },
    {
     "data": {
      "image/png": "[encoded data removed]",
      "text/plain": [
       "plot without title"
      ]
     },
     "metadata": {
      "image/png": {
       "height": 420,
       "width": 420
      }
     },
     "output_type": "display_data"
    }
   ],
   "source": [
    "# Calculate counts\n",
    "romantic_gender_count <- bootstrap_sample %>%\n",
    "  group_by(sex, romantic) %>%\n",
    "  summarise(n = n()) %>%\n",
    "  mutate(percentage = n / sum(n))\n",
    "# Visualization\n",
    "romantic_gender_distribution <- ggplot(romantic_gender_count, aes(x=sex, y=percentage, fill=romantic)) +\n",
    "  geom_bar(stat=\"identity\") +\n",
    "  geom_text(aes(label = scales::percent(percentage)), \n",
    "            position = position_stack(vjust = 0.5), color = \"white\") +\n",
    "  scale_fill_brewer(palette=\"Set1\") +\n",
    "  labs(title=\"Romantic Relations Status by Gender\", x=\"Gender\", y=\"Percentage\", fill=\"In relationship (yes or no)\") +\n",
    "  scale_y_continuous(labels = scales::percent_format()) +\n",
    "  theme_bw() +\n",
    "  theme(\n",
    "    plot.title = element_text(hjust = 0.5),\n",
    "    legend.position = \"bottom\"\n",
    "  )\n",
    "# create histogram of average study time\n",
    "student_study_time_plot <- ggplot(bootstrap_sample, aes(x=studytime)) +\n",
    "  geom_histogram(binwidth=1, fill = \"steelblue\", color = \"black\", aes(y = ..count..)) +\n",
    "  geom_text(stat='bin', aes(label=..count..), vjust=-0.5, color=\"black\", size=3.5, binwidth=1) +\n",
    "  scale_x_continuous(name = \"Average Study Time\", \n",
    "                     breaks = seq(0, max(student_data$studytime, na.rm = TRUE), by = 1)) +\n",
    "  scale_y_continuous(name = \"Count\") +\n",
    "  labs(title = \"Distribution of Average Study Time\") +\n",
    "  theme_bw() +\n",
    "  theme(\n",
    "    plot.title = element_text(hjust = 0.5),\n",
    "    panel.grid.major = element_line(linetype = \"dashed\", color = \"grey\")\n",
    "  )\n",
    "# Calculate counts\n",
    "studytime_counts <- bootstrap_sample %>%\n",
    "  group_by(studytime, romantic) %>%\n",
    "  summarise(count = n(), .groups = 'drop')\n",
    "\n",
    "# Visualization of study time by romantic status\n",
    "student_romantic_study_time <- ggplot(studytime_counts, aes(x=studytime, y=count, fill=romantic)) +\n",
    "  geom_bar(stat=\"identity\", position=\"dodge\", color = \"black\") +\n",
    "  geom_text(aes(label=count), position=position_dodge(width=0.9), vjust=-0.5, size=3.5) +\n",
    "  scale_fill_brewer(palette=\"Set1\") + \n",
    "  labs(title=\"Study Time by different Romantic Status\", \n",
    "       x=\"Study Time\", \n",
    "       y=\"Count\", \n",
    "       fill=\"In relationship (yes or no)\") +\n",
    "  theme_bw() +\n",
    "  theme(\n",
    "    plot.title = element_text(hjust = 0.5),\n",
    "    legend.position = \"bottom\"\n",
    "  )\n",
    "romantic_distribution <- ggplot(data = romantic_count, aes(x = romantic, y = n, fill = romantic)) +\n",
    "  geom_bar(stat = \"identity\", color = \"black\") +\n",
    "  geom_text(aes(label=n), vjust=-0.3, size=3.5, color=\"black\") +\n",
    "  scale_fill_manual(values = c(\"steelblue\", \"lightblue\")) +\n",
    "  scale_x_discrete(name = \"Romantic Relationship\") +\n",
    "  scale_y_continuous(name = \"Count\") +\n",
    "  labs(title = \"Num of Students in Relations or Not\") +\n",
    "  theme_bw() +\n",
    "  theme(\n",
    "    plot.title = element_text(hjust = 0.5),\n",
    "    panel.grid.major = element_line(linetype = \"dashed\", color = \"grey\"),\n",
    "    legend.position = \"none\"\n",
    "  )\n",
    "grid.arrange(\n",
    "  student_romantic_study_time, romantic_gender_distribution,\n",
    "  romantic_distribution, student_study_time_plot,\n",
    "  ncol = 2)\n",
    "\n",
    "create_caption(8, \"Data exploration and main distribution visualization\")"
   ]
  },
  {
   "cell_type": "markdown",
   "id": "eabc52ec-bccd-41b1-a603-c3e5caa93c07",
   "metadata": {},
   "source": [
    "#### 2.8. Estimates of the parameter \n",
    "- The DataFrame presents parameter estimates across different gender groups. It includes the mean study time, mean final grade, and proportion of students in romantic relationships for each gender category. This information provides valuable insights into potential differences in academic performance and romantic involvement among male and female students."
   ]
  },
  {
   "cell_type": "code",
   "execution_count": 15,
   "id": "8c25d7b8-c0ba-4341-87f4-e3841096ed25",
   "metadata": {
    "tags": []
   },
   "outputs": [
    {
     "data": {
      "text/html": [
       "<table class=\"dataframe\">\n",
       "<caption>A data.frame: 2 × 4</caption>\n",
       "<thead>\n",
       "\t<tr><th scope=col>Gender</th><th scope=col>Mean_Study_Time</th><th scope=col>Mean_Final_Grade</th><th scope=col>Proportion_Romantic</th></tr>\n",
       "\t<tr><th scope=col>&lt;chr&gt;</th><th scope=col>&lt;dbl&gt;</th><th scope=col>&lt;dbl&gt;</th><th scope=col>&lt;dbl&gt;</th></tr>\n",
       "</thead>\n",
       "<tbody>\n",
       "\t<tr><td>F</td><td>2.620977</td><td> 9.584154</td><td>0.4341635</td></tr>\n",
       "\t<tr><td>M</td><td>1.880590</td><td>10.480108</td><td>0.2941954</td></tr>\n",
       "</tbody>\n",
       "</table>\n"
      ],
      "text/latex": [
       "A data.frame: 2 × 4\n",
       "\\begin{tabular}{llll}\n",
       " Gender & Mean\\_Study\\_Time & Mean\\_Final\\_Grade & Proportion\\_Romantic\\\\\n",
       " <chr> & <dbl> & <dbl> & <dbl>\\\\\n",
       "\\hline\n",
       "\t F & 2.620977 &  9.584154 & 0.4341635\\\\\n",
       "\t M & 1.880590 & 10.480108 & 0.2941954\\\\\n",
       "\\end{tabular}\n"
      ],
      "text/markdown": [
       "\n",
       "A data.frame: 2 × 4\n",
       "\n",
       "| Gender &lt;chr&gt; | Mean_Study_Time &lt;dbl&gt; | Mean_Final_Grade &lt;dbl&gt; | Proportion_Romantic &lt;dbl&gt; |\n",
       "|---|---|---|---|\n",
       "| F | 2.620977 |  9.584154 | 0.4341635 |\n",
       "| M | 1.880590 | 10.480108 | 0.2941954 |\n",
       "\n"
      ],
      "text/plain": [
       "  Gender Mean_Study_Time Mean_Final_Grade Proportion_Romantic\n",
       "1 F      2.620977         9.584154        0.4341635          \n",
       "2 M      1.880590        10.480108        0.2941954          "
      ]
     },
     "metadata": {},
     "output_type": "display_data"
    },
    {
     "name": "stdout",
     "output_type": "stream",
     "text": [
      "[1] \"Figure #9: Varibale stat summary\"\n"
     ]
    }
   ],
   "source": [
    "# Calculate parameter estimates\n",
    "parameter_estimates <- bootstrap_sample %>%\n",
    "  group_by(sex) %>%\n",
    "  summarise(\n",
    "    Mean_Study_Time = mean(studytime),\n",
    "    Mean_Final_Grade = mean(G3),\n",
    "    Proportion_Romantic = mean(romantic == \"yes\")\n",
    "  )\n",
    "# Create a DataFrame\n",
    "parameter_df <- data.frame(\n",
    "  Gender = parameter_estimates$sex,\n",
    "  Mean_Study_Time = parameter_estimates$Mean_Study_Time,\n",
    "  Mean_Final_Grade = parameter_estimates$Mean_Final_Grade,\n",
    "  Proportion_Romantic = parameter_estimates$Proportion_Romantic\n",
    ")\n",
    "# Print the DataFrame\n",
    "parameter_df\n",
    "create_caption(9, \"Varibale stat summary\")"
   ]
  },
  {
   "cell_type": "markdown",
   "id": "04067e71-0b95-43d7-a000-0b66e17667c2",
   "metadata": {},
   "source": [
    "## III.Methods\n",
    "\n",
    "\n",
    "#### 1.6. Hypothesis Testing Approach:\n",
    "\n",
    "1. Formulate Null Hypothesis (H0) and Alternative Hypothesis (H1):\n",
    "   - Null Hypothesis (H0): There is no significant difference in the mean final grades between students in romantic relationships and students not in romantic relationships, i.e., the average final grades for both groups are equal.\n",
    "   - Alternative Hypothesis (H1): There is a significant difference in the mean final grades between students in romantic relationships and students not in romantic relationships, i.e., the average final grades for both groups are not equal.\n",
    "   \n",
    "Null Hypothesis (H0): \n",
    "$$\n",
    " H_0 : \\mu_{\\text{romantic}} = \\mu_{\\text{non-romantic}} \n",
    "$$\n",
    "Alternative Hypothesis (H1): \n",
    "$$\n",
    "H_A : \\mu_{\\text{romantic}} \\neq \\mu_{\\text{non-romantic}} \n",
    "$$\n",
    "\n",
    "2. Choose Appropriate Hypothesis Test:\n",
    "   - Since the study involves comparing the means of two independent groups, we can use the independent samples t-test to conduct the hypothesis test.\n",
    "\n",
    "3. Compute Test Statistic:\n",
    "   - Use the independent samples t-test to calculate the test statistic that measures the difference in mean final grades between the two groups.\n",
    "\n",
    "4. Calculate p-value:\n",
    "   - Based on the computed test statistic and the sample sizes, calculate the p-value. The p-value represents the probability of observing the sample results or more extreme results under the assumption that the null hypothesis is true.\n",
    "\n",
    "5. Make a Decision:\n",
    "   - Compare the p-value with the pre-defined significance level (usually 0.05) to determine whether to reject the null hypothesis. If the p-value is less than the significance level, reject the null hypothesis and conclude that there is a significant difference in mean final grades between the two groups. If the p-value is greater than the significance level, accept the null hypothesis and conclude that there is no significant difference in mean final grades between the two groups."
   ]
  },
  {
   "cell_type": "markdown",
   "id": "8b376a96-c5af-4b6c-bd82-5836be845db4",
   "metadata": {},
   "source": [
    "#### 1.6.1. Preliminary inference for hypothesis testing ：The code below is our preliminary workflow and model building.\n",
    "- This code performs a hypothesis test to assess if a significant difference exists in mean G3 scores based on students' romantic involvement. \n",
    "- It calculates the observed difference, simulates null distributions through permutation, and visualizes the results. \n",
    "- The calculated p-value (approximately 0.008) suggests that the observed difference is unlikely due to chance alone, implying a potential relationship between romantic involvement and G3 scores."
   ]
  },
  {
   "cell_type": "code",
   "execution_count": 16,
   "id": "20f63035-8711-409f-87a8-9ca8bc60ab8a",
   "metadata": {
    "tags": []
   },
   "outputs": [
    {
     "name": "stdout",
     "output_type": "stream",
     "text": [
      "[1] \"Our p-value is 0.008000\"\n",
      "[1] \"Figure #10: p-value on null distribution for difference in G3 scores based on romantic status.\"\n"
     ]
    },
    {
     "data": {
      "image/png": "[encoded data removed]",
      "text/plain": [
       "plot without title"
      ]
     },
     "metadata": {
      "image/png": {
       "height": 420,
       "width": 420
      }
     },
     "output_type": "display_data"
    }
   ],
   "source": [
    "# 1. Calculate the observed difference in means.\n",
    "obs_diff_in_means <- student_data %>%\n",
    "    specify(G3 ~ romantic) %>%\n",
    "    calculate(stat = \"diff in means\", order = c(\"no\", \"yes\"))\n",
    "\n",
    "# 2. & 3. Conduct the infer workflow.\n",
    "romantic_infer <- student_data %>%\n",
    "    specify(G3 ~ romantic) %>% \n",
    "    hypothesize(null = \"independence\") %>%\n",
    "    generate(reps = 1000, type = \"permute\") %>% \n",
    "    calculate(stat = \"diff in means\", order = c(\"no\", \"yes\"))\n",
    "\n",
    "# 4. Visualize the distribution and p-value.\n",
    "romantic_infer_vis <- romantic_infer %>% \n",
    "   visualize() + \n",
    "   shade_p_value(obs_stat = obs_diff_in_means, direction = \"two_sided\") +\n",
    "   xlab(\"Difference in Mean G3 Scores\") +\n",
    "   labs(title = \"p-value on null distribution for difference in G3 scores based on romantic status.\")\n",
    "\n",
    "print(romantic_infer_vis)\n",
    "\n",
    "# 5. Print the p-value.\n",
    "p_val <- get_p_value(romantic_infer, obs_stat = obs_diff_in_means, direction = \"two_sided\")$p_value\n",
    "print(sprintf(\"Our p-value is %f\", p_val))\n",
    "create_caption(10, \"p-value on null distribution for difference in G3 scores based on romantic status.\")"
   ]
  },
  {
   "cell_type": "markdown",
   "id": "c3d58fd2-b5eb-4dfa-8520-85732269ff59",
   "metadata": {},
   "source": [
    "#### 1.6.2.Exploration of confidence intervals：\n",
    "- This code calculates confidence intervals for the mean G3 grades based on different romantic involvement statuses (\"yes\" and \"no\") using a bootstrap resampling approach. \n",
    "- It filters the bootstrap_sample by each romantic status, calculates the mean, standard error, and 95% confidence interval for each group, and then appends these results to the romantic_bootstrap_cis data frame. \n",
    "- This data frame provides insight into the range of possible mean G3 grades for each romantic status, considering sampling variability.\n"
   ]
  },
  {
   "cell_type": "code",
   "execution_count": 17,
   "id": "b3c64cfd-d5ef-4cc9-ab1e-08805f9ef4af",
   "metadata": {
    "tags": []
   },
   "outputs": [
    {
     "data": {
      "text/html": [
       "<table class=\"dataframe\">\n",
       "<caption>A data.frame: 2 × 4</caption>\n",
       "<thead>\n",
       "\t<tr><th scope=col>romantic_status</th><th scope=col>mean_grade</th><th scope=col>lower_ci</th><th scope=col>upper_ci</th></tr>\n",
       "\t<tr><th scope=col>&lt;chr&gt;</th><th scope=col>&lt;dbl&gt;</th><th scope=col>&lt;dbl&gt;</th><th scope=col>&lt;dbl&gt;</th></tr>\n",
       "</thead>\n",
       "<tbody>\n",
       "\t<tr><td>no </td><td>10.398832</td><td>10.354781</td><td>10.442884</td></tr>\n",
       "\t<tr><td>yes</td><td> 9.795644</td><td> 9.742723</td><td> 9.848564</td></tr>\n",
       "</tbody>\n",
       "</table>\n"
      ],
      "text/latex": [
       "A data.frame: 2 × 4\n",
       "\\begin{tabular}{llll}\n",
       " romantic\\_status & mean\\_grade & lower\\_ci & upper\\_ci\\\\\n",
       " <chr> & <dbl> & <dbl> & <dbl>\\\\\n",
       "\\hline\n",
       "\t no  & 10.398832 & 10.354781 & 10.442884\\\\\n",
       "\t yes &  9.795644 &  9.742723 &  9.848564\\\\\n",
       "\\end{tabular}\n"
      ],
      "text/markdown": [
       "\n",
       "A data.frame: 2 × 4\n",
       "\n",
       "| romantic_status &lt;chr&gt; | mean_grade &lt;dbl&gt; | lower_ci &lt;dbl&gt; | upper_ci &lt;dbl&gt; |\n",
       "|---|---|---|---|\n",
       "| no  | 10.398832 | 10.354781 | 10.442884 |\n",
       "| yes |  9.795644 |  9.742723 |  9.848564 |\n",
       "\n"
      ],
      "text/plain": [
       "  romantic_status mean_grade lower_ci  upper_ci \n",
       "1 no              10.398832  10.354781 10.442884\n",
       "2 yes              9.795644   9.742723  9.848564"
      ]
     },
     "metadata": {},
     "output_type": "display_data"
    },
    {
     "name": "stdout",
     "output_type": "stream",
     "text": [
      "[1] \"Figure #10: Confidence intervals via bootstrap\"\n"
     ]
    }
   ],
   "source": [
    "# Define columns and data frame structure\n",
    "set.seed(123)\n",
    "columns <- c(\"romantic_status\", \"mean_grade\", \"lower_ci\", \"upper_ci\")\n",
    "romantic_bootstrap_cis <- data.frame(matrix(ncol = length(columns), nrow=0))\n",
    "names(romantic_bootstrap_cis) <- columns \n",
    "\n",
    "statuses <- unique(bootstrap_sample$romantic) # Get unique romantic statuses: \"yes\" and \"no\"\n",
    "\n",
    "for (status in statuses) {\n",
    "    # 1. Filter bootstrap sample down to just this romantic status\n",
    "    romantic_data <- bootstrap_sample %>% \n",
    "        filter(romantic == status)\n",
    "\n",
    "    # 2. Calculate the mean of the G3 scores for the romantic status in the bootstrap sample\n",
    "    mean_value <- mean(romantic_data$G3)\n",
    "\n",
    "    # Calculating standard error and confidence intervals\n",
    "    std_error <- sd(romantic_data$G3) / sqrt(nrow(romantic_data))\n",
    "    t_statistic <- qt(0.975, df = nrow(romantic_data) - 1) # t value for 95% CI\n",
    "    lower_ci <- mean_value - t_statistic * std_error\n",
    "    upper_ci <- mean_value + t_statistic * std_error\n",
    "\n",
    "    # 3. Format and append our observed result to our `romantic_bootstrap_cis` data frame\n",
    "    new_obs <- data.frame(romantic_status = status, mean_grade = mean_value, lower_ci = lower_ci, upper_ci = upper_ci)\n",
    "    \n",
    "    # Add the new observations to the data frame\n",
    "    romantic_bootstrap_cis <- rbind(romantic_bootstrap_cis, new_obs)\n",
    "}\n",
    "\n",
    "# View results\n",
    "romantic_bootstrap_cis\n",
    "create_caption(10, \"Confidence intervals via bootstrap\")"
   ]
  },
  {
   "cell_type": "markdown",
   "id": "d229a3f6-1ff7-41ab-a721-76cb9c0a2f6f",
   "metadata": {},
   "source": [
    "#### 1.6.3.Visual confidence intervals capture the situation\n",
    "1. This code generates a visualization that allows for easy comparison of confidence intervals for mean G3 scores based on students' romantic involvement status. \n",
    "2. The color coding and vertical line provide insights into whether the overall mean falls within the intervals.\n",
    "3. The confidence interval for the \"no\" class captures the overall mean (that is, the overall mean falls within the confidence interval for the class).\n",
    "4. This means:\n",
    " - For those students who were not in a relationship, the confidence interval for the mean of their G3 scores included the overall mean of the G3 scores for all students.\n",
    " - If the confidence interval for the \"yes\" category does not capture the overall mean, then this indicates that the G3 scores of those students who are in a relationship may be significantly different from the overall mean.\n",
    " - In summary, the figure can help us understand the relationship between the mean value of students' G3 scores and the overall mean value in different relationship states. If the confidence interval for a certain class does not capture the overall mean, then this may be a signal to us that there may be a difference in G3 score between this particular subset and the overall data."
   ]
  },
  {
   "cell_type": "code",
   "execution_count": 18,
   "id": "d5cb71ac-77f3-4be9-b77f-57eaaf0bd0d2",
   "metadata": {
    "tags": []
   },
   "outputs": [
    {
     "name": "stdout",
     "output_type": "stream",
     "text": [
      "[1] \"Figure #11: Confidence intervals via Captured or not\"\n"
     ]
    },
    {
     "data": {
      "image/png": "[encoded data removed]",
      "text/plain": [
       "plot without title"
      ]
     },
     "metadata": {
      "image/png": {
       "height": 420,
       "width": 420
      }
     },
     "output_type": "display_data"
    }
   ],
   "source": [
    "# Create a custom theme function\n",
    "set.seed(123)\n",
    "theme_stat201 <- function() {\n",
    "  theme_minimal() + \n",
    "    theme(\n",
    "      text = element_text(size=14), \n",
    "      axis.text.x = element_text(angle=45, hjust=1)\n",
    "    )\n",
    "}\n",
    "\n",
    "# Add a new column 'captured': This column checks if the overall mean of G3 is within the confidence interval\n",
    "overall_mean <- mean(student_data$G3)\n",
    "\n",
    "romantic_bootstrap_cis <- romantic_bootstrap_cis %>%\n",
    "  mutate(captured = (lower_ci <= overall_mean & overall_mean <= upper_ci))\n",
    "\n",
    "# Visualization\n",
    "many_ci_plot <- romantic_bootstrap_cis %>%\n",
    "  ggplot() + \n",
    "  scale_colour_manual(breaks = c(\"TRUE\", \"FALSE\"),\n",
    "                      values = c(\"grey\", \"black\")) + \n",
    "  geom_segment(aes(x = lower_ci,\n",
    "                   xend = upper_ci,\n",
    "                   y = romantic_status,\n",
    "                   yend = romantic_status,\n",
    "                   color = captured)) + \n",
    "  geom_vline(xintercept = overall_mean, colour = \"red\", size = 1) + \n",
    "  labs(title = \"Confidence Intervals for Mean G3 Scores by Romantic Status\",\n",
    "       y = \"Romantic Status\",\n",
    "       x = \"Confidence Interval\",\n",
    "       colour = \"Captured Overall Mean?\") + \n",
    "  theme_stat201()\n",
    "\n",
    "# Display the plot\n",
    "many_ci_plot\n",
    "create_caption(11, \"Confidence intervals via Captured or not\")"
   ]
  },
  {
   "cell_type": "markdown",
   "id": "a122e5e1-0707-4a36-b246-954796c64058",
   "metadata": {
    "tags": []
   },
   "source": [
    "#### 1.6.4.Hypothesis testing (T-test)\n",
    "1. We performed two t-tests on the G3 scores of students who were in releation or not.\n",
    "- One-sample t-test: Objective: To test whether the G3 score of students in relationships is significantly lower than the average score of non-romantic students.\n",
    "- Two-sample t-test: Objective: To compare the G3 scores of students who were in love or not to determine whether there was a significant difference between the two groups."
   ]
  },
  {
   "cell_type": "code",
   "execution_count": 19,
   "id": "574079a1-905a-4649-8387-a0924bc4d199",
   "metadata": {
    "tags": []
   },
   "outputs": [
    {
     "name": "stdout",
     "output_type": "stream",
     "text": [
      "Reject the null hypothesis. There is significant evidence that G3 scores of romantic students are lower than non-romantic students.\n",
      "Calculated p-value: 2.73418e-109 \n"
     ]
    }
   ],
   "source": [
    "# Separate G3 scores of romantic and non-romantic students\n",
    "romantic_g3 <- bootstrap_sample %>%\n",
    "  filter(romantic == \"yes\") %>%\n",
    "  pull(G3)\n",
    "\n",
    "non_romantic_g3 <- bootstrap_sample %>%\n",
    "  filter(romantic == \"no\") %>%\n",
    "  pull(G3)\n",
    "\n",
    "# Perform one-sample t-test\n",
    "t_test_result <- t.test(romantic_g3, mu = mean(non_romantic_g3), alternative = \"less\")\n",
    "\n",
    "# Significance level\n",
    "alpha <- 0.05\n",
    "\n",
    "# Interpret the test result\n",
    "if (t_test_result$p.value <= alpha) {\n",
    "  cat(\"Reject the null hypothesis. There is significant evidence that G3 scores of romantic students are lower than non-romantic students.\\n\")\n",
    "} else {\n",
    "  cat(\"Fail to reject the null hypothesis. There is no significant evidence that G3 scores of romantic students are lower than non-romantic students.\\n\")\n",
    "}\n",
    "\n",
    "# Print test result\n",
    "cat(\"Calculated p-value:\", t_test_result$p.value, \"\\n\")"
   ]
  },
  {
   "cell_type": "code",
   "execution_count": 20,
   "id": "d9b2e22b-7dd3-4f08-922c-69a6cd0669eb",
   "metadata": {
    "tags": []
   },
   "outputs": [
    {
     "data": {
      "text/html": [
       "<table class=\"dataframe\">\n",
       "<caption>A tibble: 1 × 10</caption>\n",
       "<thead>\n",
       "\t<tr><th scope=col>estimate</th><th scope=col>estimate1</th><th scope=col>estimate2</th><th scope=col>statistic</th><th scope=col>p.value</th><th scope=col>parameter</th><th scope=col>conf.low</th><th scope=col>conf.high</th><th scope=col>method</th><th scope=col>alternative</th></tr>\n",
       "\t<tr><th scope=col>&lt;dbl&gt;</th><th scope=col>&lt;dbl&gt;</th><th scope=col>&lt;dbl&gt;</th><th scope=col>&lt;dbl&gt;</th><th scope=col>&lt;dbl&gt;</th><th scope=col>&lt;dbl&gt;</th><th scope=col>&lt;dbl&gt;</th><th scope=col>&lt;dbl&gt;</th><th scope=col>&lt;chr&gt;</th><th scope=col>&lt;chr&gt;</th></tr>\n",
       "</thead>\n",
       "<tbody>\n",
       "\t<tr><td>0.6031887</td><td>10.39883</td><td>9.795644</td><td>17.1707</td><td>7.693811e-66</td><td>38963.99</td><td>0.5343351</td><td>0.6720423</td><td>Welch Two Sample t-test</td><td>two.sided</td></tr>\n",
       "</tbody>\n",
       "</table>\n"
      ],
      "text/latex": [
       "A tibble: 1 × 10\n",
       "\\begin{tabular}{llllllllll}\n",
       " estimate & estimate1 & estimate2 & statistic & p.value & parameter & conf.low & conf.high & method & alternative\\\\\n",
       " <dbl> & <dbl> & <dbl> & <dbl> & <dbl> & <dbl> & <dbl> & <dbl> & <chr> & <chr>\\\\\n",
       "\\hline\n",
       "\t 0.6031887 & 10.39883 & 9.795644 & 17.1707 & 7.693811e-66 & 38963.99 & 0.5343351 & 0.6720423 & Welch Two Sample t-test & two.sided\\\\\n",
       "\\end{tabular}\n"
      ],
      "text/markdown": [
       "\n",
       "A tibble: 1 × 10\n",
       "\n",
       "| estimate &lt;dbl&gt; | estimate1 &lt;dbl&gt; | estimate2 &lt;dbl&gt; | statistic &lt;dbl&gt; | p.value &lt;dbl&gt; | parameter &lt;dbl&gt; | conf.low &lt;dbl&gt; | conf.high &lt;dbl&gt; | method &lt;chr&gt; | alternative &lt;chr&gt; |\n",
       "|---|---|---|---|---|---|---|---|---|---|\n",
       "| 0.6031887 | 10.39883 | 9.795644 | 17.1707 | 7.693811e-66 | 38963.99 | 0.5343351 | 0.6720423 | Welch Two Sample t-test | two.sided |\n",
       "\n"
      ],
      "text/plain": [
       "  estimate  estimate1 estimate2 statistic p.value      parameter conf.low \n",
       "1 0.6031887 10.39883  9.795644  17.1707   7.693811e-66 38963.99  0.5343351\n",
       "  conf.high method                  alternative\n",
       "1 0.6720423 Welch Two Sample t-test two.sided  "
      ]
     },
     "metadata": {},
     "output_type": "display_data"
    },
    {
     "name": "stdout",
     "output_type": "stream",
     "text": [
      "[1] \"Figure #12: Basic one-sample t-test\"\n"
     ]
    }
   ],
   "source": [
    "t_test <- tidy(t.test(x = bootstrap_sample$G3[bootstrap_sample$romantic == \"no\"], \n",
    "                      y = bootstrap_sample$G3[bootstrap_sample$romantic == \"yes\"], \n",
    "                      paired = FALSE,\n",
    "                      alternative = 'two.sided'))\n",
    "t_test\n",
    "create_caption(12, \"Basic one-sample t-test\")"
   ]
  },
  {
   "cell_type": "markdown",
   "id": "951f3722-da9f-4cab-a7b8-e6e2aa476c66",
   "metadata": {},
   "source": [
    "## IV. Results\n",
    "4.0. Our primary objective was to discern whether students in romantic relationships had significantly different final grades (G3 scores) compared to students not in relationships.\n",
    "4.1. Preliminary Inference for Hypothesis Testing:\n",
    "- Our preliminary testing showed a p-value of 0.008, which is less than the conventional significance level of 0.05. \n",
    "- This suggests that there is a significant difference in the G3 scores of students based on their romantic involvement.This p-value is considerably less than the traditional alpha level of 0.05, leading to the rejection of the null hypothesis. This indicates that the observed difference in means is unlikely to be due to random chance.\n",
    "\n",
    "4.2. Bootstrap Confidence Intervals:\n",
    "- The bootstrap method was employed to construct 95% confidence intervals for the mean G3 scores for both groups:\n",
    "- Students not in a romantic relationship: 10.35 - 10.44\n",
    "- Students in a romantic relationship: 9.74 - 9.85\n",
    "- It is noteworthy that the confidence intervals for both groups do not overlap, further substantiating the significant difference in mean G3 scores between the two categories.\n",
    "\n",
    "4.3. Visualization of Confidence Intervals:\n",
    "- The visualization illustrated the confidence intervals for both groups, with the overall mean depicted by a vertical red line.\n",
    "- Notably, the confidence interval for non-romantic students included the overall mean G3 score of all students, whereas the romantic students' confidence interval did not. This underscores the difference in performance between the two groups.\n",
    "\n",
    "4.4. T-tests:\n",
    "- One-sample t-test showed a significantly lower G3 score for romantic students compared to the average score of non-romantic students, with a p-value of 2.73418e-109.\n",
    "- Two-sample t-test results indicated a significant difference in G3 scores between non-romantic and romantic students. The test statistic was 17.1707, and the p-value was 7.693811e-66. The confidence interval for the mean difference ranged from approximately 0.5343 to 0.6720.\n",
    "## V. Discussion and Explanation\n",
    "1. The results from the hypothesis tests, confidence intervals, and t-tests consistently point to one conclusion: students who are not in romantic relationships tend to have higher mean G3 scores than those in romantic relationships.\n",
    "2. Several interpretations can be drawn from this:\n",
    "- Time Management: Engaging in a romantic relationship may require substantial time and emotional investment, which might detract from the time available for academic pursuits.\n",
    "- Emotional Stability: Romantic relationships during adolescence can be emotionally turbulent. Emotional disturbances could hinder academic concentration and performance.\n",
    "- Priorities and Distractions: Students in relationships might prioritize their romantic commitments over their academic responsibilities, leading to potential distractions and reduced academic focus.\n",
    "- Societal and Peer Pressure: Adolescents face significant societal and peer pressures, which might be magnified within the context of a romantic relationship, potentially impacting academic performance.\n",
    "\n",
    "3. However, it's crucial to note some caveats:\n",
    "- Correlation ≠ Causation: While our study has identified a correlation, it does not imply causality. It is uncertain if being in a relationship directly causes lower grades or if there's another lurking variable.\n",
    "- External Factors: Other factors might be influencing students' grades, like personal situations, health issues, or other commitments, which were not controlled for in our study.\n",
    "- Individual Differences: While we noted a general trend, individual differences exist. Not every student in a relationship will perform poorly, and not every single student will excel academically.\n",
    "\n",
    "4. In conclusion, while our data highlights a potential relationship between romantic involvement and academic performance, further research is needed. Future studies could delve deeper into understanding the nuances and causative factors behind this observed phenomenon, possibly incorporating qualitative methods to gain insights into students' lived experiences.\n",
    "\n",
    "#### Question Answer: Do you think one of bootstrapping or asymptotics is more appropriate than the other?\n",
    "\n",
    "Choosing between bootstrapping and asymptotic methods depends largely on the nature of the data and the specific problem at hand. \n",
    "1. For our study, we utilized bootstrapping to construct 95% confidence intervals around the G3 scores of students. Bootstrapping is advantageous for our dataset, especially given the potential that the data may not adhere to standard distributional assumptions. This non-parametric approach offers a flexible and robust way to estimate parameters and their uncertainties. In contrast, while asymptotic methods are computationally faster and rely on large sample theory, they require more stringent assumptions about the underlying data distribution. Given the size and characteristics of our dataset, bootstrapping emerged as a more appropriate method, providing both reliable and defensible results.\n",
    "\n",
    "2. By approximating the sampling distribution of a statistic through resampling techniques. Where B represents the number of bootstrap samples and ∗Xi is the mean of the ith bootstrap sample.\n",
    "$$\n",
    "\\text{Bootstrap mean} = \\frac{1}{B} \\sum_{i=1}^{B} X_i^*\n",
    "$$\n",
    "\n",
    "3. Asymptotics:\n",
    "For large samples, as the sample size approaches infinity, the sampling distribution of many statistics approaches a normal distribution (Central Limit Theorem).\n",
    "$$\n",
    "Z = \\frac{\\bar{X} - \\mu}{\\sigma / \\sqrt{n}}\n",
    "$$\n"
   ]
  },
  {
   "cell_type": "code",
   "execution_count": 21,
   "id": "e8a26ba3-a324-477c-af9f-7b469ab6d213",
   "metadata": {
    "tags": []
   },
   "outputs": [],
   "source": [
    "# R code to demonstrate bootstrapping for mean G3 scores\n",
    "bootstrap_means <- replicate(1000, {\n",
    "  sample_mean <- mean(sample(student_data$G3, size=length(student_data$G3), replace=TRUE))\n",
    "  return(sample_mean)\n",
    "})"
   ]
  },
  {
   "cell_type": "markdown",
   "id": "c3872f45-8fba-4b79-a75d-ff96f5073fbd",
   "metadata": {},
   "source": [
    "## VI. Further Discussion and Support information\n",
    "#### 6.1.Strengths of the Report\n",
    "- Robust Data Analysis: The report employs rigorous quantitative methods, including inferential statistics and visualizations, to analyze a large and diverse dataset. This approach ensures the validity and reliability of the findings.\n",
    "- Controlled Variables: By considering study time as a controlled variable, the report addresses potential confounding factors that could influence the relationship between romantic involvement and academic performance. This increases the  confidence in the study's conclusions. Moreover, the inclusion of controlled variables, such as study time, addresses potential confounding factors that could influence the relationship between romantic involvement and academic performance (Meiler & Aleen, 2009). \n",
    "- Comparative Analysis: The report conducts a comparative analysis between students in romantic relationships and those not in relationships. This approach allows for a direct examination of the impact of romantic involvement on academic outcomes, enhancing the reliability of the results.\n",
    "- Inclusion of Hypothesis Testing and Confidence Intervals: The report plans to include hypothesis testing and confidence intervals in the analysis. These statistical methods provide a robust framework for drawing meaningful inferences and making valid conclusions about the population based on sample data.\n",
    "#### 6.2.Limitations and Addressing Gaps\n",
    "- While the report has many strengths, there are some limitations that need to be addressed to provide more comprehensive insights to stakeholders:\n",
    "- Insufficient Causality Assessment: The current analysis provides associations between romantic involvement and academic performance but does not establish causality. To address this, further longitudinal studies or experimental designs may be needed to ascertain the causal relationship.\n",
    "- Consideration of External Factors: The report may benefit from exploring potential external factors that could influence the relationship between romantic involvement and academic performance. Factors such as socioeconomic status, parental involvement, or psychological well-being might be relevant to consider in the analysis.\n",
    "- Comparison of Bootstrap and Asymptotic Methods: To enhance the credibility of the results, the report should compare the outcomes obtained from both bootstrap and asymptotic methods. This comparison will help assess the robustness and reliability of the statistical inferences.\n",
    "#### 6.3.Expected Findings and Implications\n",
    "\n",
    "- The report aims to explore the potential impact of romantic involvement on students' academic performance.  By investigating the differences between students in romantic relationships and those not in relationships, valuable insights can be gained, which may have important implications for educational institutions and policymakers.  The findings could inform the development of support mechanisms to assist students in achieving a harmonious balance between their personal lives and academic commitments, fostering an environment conducive to both emotional well-being and academic excellence (Meeus, Iedema, Helsen, & Vollebergh, 1999).\n",
    "#### 6.4.Future Implications and Potential Challenges\n",
    "\n",
    "- The findings of this report could raise awareness of the potential academic risks associated with romantic involvement among students. Future research could delve deeper into understanding the underlying mechanisms and factors that mediate this relationship. Additionally, the report may highlight the need for targeted interventions to support students in maintaining healthy and balanced relationships while prioritizing their academic pursuits.\n",
    "- However, it is essential to recognize that academic performance is influenced by multiple factors, and romantic relationships are just one aspect of students' lives. Addressing the potential challenges of implementing interventions and accounting for various confounding factors will be critical in ensuring the effectiveness and practicality of any proposed strategies.\n",
    "#### 6.5.Overall\n",
    "- According to Luthar, Kumar, and Zillmer (2020), high-achieving schools may connote risks for adolescents, and these risks are documented and implicate various processes. It is essential to consider these factors when conducting interventions and addressing potential issues in academic settings. Thereforem, the report's findings could contribute valuable insights to educational stakeholders and inform evidence-based decision-making in fostering students' academic success and well-being."
   ]
  },
  {
   "cell_type": "markdown",
   "id": "86344946-946e-4114-a9a1-b2342c331f5f",
   "metadata": {},
   "source": [
    "### VII. References"
   ]
  },
  {
   "cell_type": "markdown",
   "id": "6cf9363d-0097-4c71-b567-f50e3a527cef",
   "metadata": {},
   "source": [
    "[1].Hallfors, D. D., Waller, M. W., Bauer, D., Ford, C. A., & Halpern, C. T. (2005). Which comes first in adolescence—sex and drugs or depression? American Journal of Preventive Medicine, 29(3), 163–170. https://doi.org/10.1016/j.amepre.2005.06.002 \n",
    "\n",
    "[2].Honghao, J., Po, Y., & Tianyu, Y. (2021). The influence of adolescents’ romantic relationship on individual development: Evidence from China. International Journal of Chinese Education, 10(3), 221258682110700. https://doi.org/10.1177/22125868211070036 \n",
    "\n",
    "[3]. Meier A, Allen G. Romantic Relationships from Adolescence to Young Adulthood: Evidence from the National Longitudinal Study of Adolescent Health. Sociol Q. 2009 Spring;50(2):308-335. doi: 10.1111/j.1533-8525.2009.01142.x. PMID: 25332511; PMCID: PMC4201847.\n",
    "\n",
    "[4]. Luthar, S. S., Kumar, N. L., & Zillmer, N. (2020). High-achieving schools connote risks for adolescents: Problems documented, processes implicated, and directions for interventions. American Psychologist, 75(7), 983.\n",
    "\n",
    "[5]. Meeus, W., Iedema, J., Helsen, M., & Vollebergh, W. (1999). Patterns of adolescent identity development: Review of literature and longitudinal analysis. Developmental review, 19(4), 419-461."
   ]
  },
  {
   "cell_type": "code",
   "execution_count": null,
   "id": "6e064311-8e4d-4bd3-b726-a88b73d1bc4b",
   "metadata": {},
   "outputs": [],
   "source": []
  }
 ],
 "metadata": {
  "kernelspec": {
   "display_name": "R",
   "language": "R",
   "name": "ir"
  },
  "language_info": {
   "codemirror_mode": "r",
   "file_extension": ".r",
   "mimetype": "text/x-r-source",
   "name": "R",
   "pygments_lexer": "r",
   "version": "4.3.1"
  }
 },
 "nbformat": 4,
 "nbformat_minor": 5
}
