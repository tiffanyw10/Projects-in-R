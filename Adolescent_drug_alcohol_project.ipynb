{
 "cells": [
  {
   "cell_type": "markdown",
   "id": "8bdbddd9-aa2f-44f1-9c05-2bd731732837",
   "metadata": {},
   "source": [
    "# What is the likelihood of an individual using marijuana/cannabis based on the age that individual started smoking cigarettes and/or had their first drink of alcohol\n",
    "\n",
    "## INTRODUCTION\n",
    "\n",
    "As the number of individuals who disapprove of marijuana use declines, we have seen the number of marijuana users increase among young adolescents. (Wright et al, 2017). A study by Kirby and Barry found that students who drank alcohol were more likely to use drugs and argue that alcohol prevention should be the main focus in schools rather than solely focusing on drug use, since alcohol use increases the likelihood of students using drugs (2012). Furthermore, they found that  more current e-cigarette users than non-users admitted to using alcohol, marijuana, and illegal drugs in the previous year. Also, those who now use e-cigarettes were more likely to admit to regularly using these drugs. Based on our research we found that young individuals may try alcohol and smoking for various reasons, including peer pressure, curiosity, social norms, family history of substance use, and coping with stress or anxiety. Peer pressure is a significant factor in substance initiation among young people, as they may feel compelled to conform to their peers' behaviors (Kuntsche et al., 2005). Exposure to alcohol and smoking in media and pop culture can also create a perception that substance use is a normal and acceptable behavior (Donovan, 2004). A family history of substance use is a risk factor for young individuals to experiment with alcohol and smoking. Children of parents who smoke or drink heavily are more likely to try these substances at a younger age (Donovan, 2004). To help us understand these findings, we chose the data set from the Canadian student tobacco alcohol and drugs survey administered to students from grades 7 to 12. We want to see if young nicotine and alcohol consumption would influence whether or not an individual uses marijuana.\n",
    "\n",
    "\n",
    "We will use the following two variables from the data set and use knn-classification,\n",
    "\n",
    "`ALC_030` : Age which an individual first tried alcohol\n",
    "\n",
    "`SS_020` : Age which and individual first tried smoking cigarettes\n",
    "\n",
    "`CAN_040` : How often an individual has used marijuana in the last 30 days\n",
    "\n",
    "*Dataset:* Health Canada; PROPEL Centre for Population Health Impact, 2020, \"2018/2019 Canadian student tobacco, alcohol and drugs survey\", https://hdl.handle.net/11272.1/AB2/WEFOHY, Abacus Data Network, V1, UNF:6:b30sgE/74ieEDNG49VXOJQ== [fileUNF]\n",
    "\n"
   ]
  },
  {
   "cell_type": "markdown",
   "id": "cecd814a-cc8c-494b-882a-3b07e013d8d4",
   "metadata": {},
   "source": [
    "## METHODS\n",
    "\n"
   ]
  },
  {
   "cell_type": "markdown",
   "id": "545e6271-2209-42eb-ad15-d1f265745477",
   "metadata": {},
   "source": [
    "First we load the libraries that carry packages we will use for our analysis. (Note: The function `suppressMessages()` is to hide the long command that pops out when attaching the libraries so that the report will look tidier)."
   ]
  },
  {
   "cell_type": "code",
   "execution_count": 40,
   "id": "32ed5997-f01a-48d1-a23f-5ee4c13d6eaa",
   "metadata": {
    "tags": []
   },
   "outputs": [],
   "source": [
    "library(repr) \n",
    "library(tidyverse) \n",
    "library(tidymodels)\n",
    "options(repr.matrix.max.rows = 6)\n",
    "#source('tests.R')\n",
    "#source(\"cleanup.R\")\n",
    "\n",
    "set.seed(9999)"
   ]
  },
  {
   "cell_type": "markdown",
   "id": "2dd0eb35-24fb-4ef0-b450-5b027e4365d4",
   "metadata": {},
   "source": [
    "### Reading the data\n",
    "\n",
    "Firstly, our data set separator use tables, so we read the data from our GitHub repository using the `read_tsv` function. We'll load our data set below, and show the first 6 rows of the data."
   ]
  },
  {
   "cell_type": "code",
   "execution_count": 41,
   "id": "937f2a8f-ba73-4ce3-9cfe-264e46500c7d",
   "metadata": {
    "tags": []
   },
   "outputs": [
    {
     "data": {
      "text/html": [
       "<table class=\"dataframe\">\n",
       "<caption>A tibble: 6 × 185</caption>\n",
       "<thead>\n",
       "\t<tr><th scope=col>SCANID</th><th scope=col>MODULE</th><th scope=col>PROVID</th><th scope=col>SCHID</th><th scope=col>GRADE</th><th scope=col>SEX</th><th scope=col>SS_010</th><th scope=col>SS_020</th><th scope=col>TS_011</th><th scope=col>TV_010</th><th scope=col>⋯</th><th scope=col>DVTY2ST</th><th scope=col>DVLAST30</th><th scope=col>DVAMTSMK</th><th scope=col>DVCIGWK</th><th scope=col>DVNDSMK</th><th scope=col>DVAVCIGD</th><th scope=col>DVRES</th><th scope=col>DVURBAN</th><th scope=col>DVHHINC2</th><th scope=col>WTPP</th></tr>\n",
       "\t<tr><th scope=col>&lt;dbl&gt;</th><th scope=col>&lt;dbl&gt;</th><th scope=col>&lt;dbl&gt;</th><th scope=col>&lt;dbl&gt;</th><th scope=col>&lt;dbl&gt;</th><th scope=col>&lt;dbl&gt;</th><th scope=col>&lt;dbl&gt;</th><th scope=col>&lt;dbl&gt;</th><th scope=col>&lt;dbl&gt;</th><th scope=col>&lt;dbl&gt;</th><th scope=col>⋯</th><th scope=col>&lt;dbl&gt;</th><th scope=col>&lt;dbl&gt;</th><th scope=col>&lt;dbl&gt;</th><th scope=col>&lt;dbl&gt;</th><th scope=col>&lt;dbl&gt;</th><th scope=col>&lt;dbl&gt;</th><th scope=col>&lt;dbl&gt;</th><th scope=col>&lt;dbl&gt;</th><th scope=col>&lt;dbl&gt;</th><th scope=col>&lt;dbl&gt;</th></tr>\n",
       "</thead>\n",
       "<tbody>\n",
       "\t<tr><td>100224</td><td>1</td><td>35</td><td>3589267</td><td> 9</td><td>1</td><td>1</td><td>13</td><td>2</td><td>3</td><td>⋯</td><td>1</td><td>1</td><td> 1</td><td>  8</td><td> 5</td><td> 2</td><td>1</td><td>2</td><td>60000</td><td> 33.15</td></tr>\n",
       "\t<tr><td>100225</td><td>1</td><td>35</td><td>3589267</td><td> 9</td><td>1</td><td>1</td><td>13</td><td>1</td><td>1</td><td>⋯</td><td>1</td><td>1</td><td>10</td><td> 70</td><td> 7</td><td>10</td><td>1</td><td>2</td><td>60000</td><td> 33.15</td></tr>\n",
       "\t<tr><td>100226</td><td>1</td><td>35</td><td>3589267</td><td>12</td><td>1</td><td>2</td><td>96</td><td>4</td><td>3</td><td>⋯</td><td>7</td><td>2</td><td>96</td><td>996</td><td>96</td><td>96</td><td>3</td><td>2</td><td>60000</td><td> 75.14</td></tr>\n",
       "\t<tr><td>100227</td><td>1</td><td>35</td><td>3589267</td><td>12</td><td>2</td><td>1</td><td> 2</td><td>3</td><td>2</td><td>⋯</td><td>4</td><td>1</td><td> 0</td><td>  0</td><td> 0</td><td> 0</td><td>1</td><td>2</td><td>60000</td><td>105.70</td></tr>\n",
       "\t<tr><td>100228</td><td>1</td><td>35</td><td>3589267</td><td>12</td><td>1</td><td>1</td><td> 2</td><td>3</td><td>3</td><td>⋯</td><td>6</td><td>2</td><td>96</td><td>996</td><td>96</td><td>96</td><td>1</td><td>2</td><td>60000</td><td> 75.14</td></tr>\n",
       "\t<tr><td>100229</td><td>1</td><td>35</td><td>3589267</td><td>11</td><td>1</td><td>2</td><td>96</td><td>4</td><td>3</td><td>⋯</td><td>7</td><td>2</td><td>96</td><td>996</td><td>96</td><td>96</td><td>1</td><td>2</td><td>60000</td><td> 63.87</td></tr>\n",
       "</tbody>\n",
       "</table>\n"
      ],
      "text/latex": [
       "A tibble: 6 × 185\n",
       "\\begin{tabular}{lllllllllllllllllllll}\n",
       " SCANID & MODULE & PROVID & SCHID & GRADE & SEX & SS\\_010 & SS\\_020 & TS\\_011 & TV\\_010 & ⋯ & DVTY2ST & DVLAST30 & DVAMTSMK & DVCIGWK & DVNDSMK & DVAVCIGD & DVRES & DVURBAN & DVHHINC2 & WTPP\\\\\n",
       " <dbl> & <dbl> & <dbl> & <dbl> & <dbl> & <dbl> & <dbl> & <dbl> & <dbl> & <dbl> & ⋯ & <dbl> & <dbl> & <dbl> & <dbl> & <dbl> & <dbl> & <dbl> & <dbl> & <dbl> & <dbl>\\\\\n",
       "\\hline\n",
       "\t 100224 & 1 & 35 & 3589267 &  9 & 1 & 1 & 13 & 2 & 3 & ⋯ & 1 & 1 &  1 &   8 &  5 &  2 & 1 & 2 & 60000 &  33.15\\\\\n",
       "\t 100225 & 1 & 35 & 3589267 &  9 & 1 & 1 & 13 & 1 & 1 & ⋯ & 1 & 1 & 10 &  70 &  7 & 10 & 1 & 2 & 60000 &  33.15\\\\\n",
       "\t 100226 & 1 & 35 & 3589267 & 12 & 1 & 2 & 96 & 4 & 3 & ⋯ & 7 & 2 & 96 & 996 & 96 & 96 & 3 & 2 & 60000 &  75.14\\\\\n",
       "\t 100227 & 1 & 35 & 3589267 & 12 & 2 & 1 &  2 & 3 & 2 & ⋯ & 4 & 1 &  0 &   0 &  0 &  0 & 1 & 2 & 60000 & 105.70\\\\\n",
       "\t 100228 & 1 & 35 & 3589267 & 12 & 1 & 1 &  2 & 3 & 3 & ⋯ & 6 & 2 & 96 & 996 & 96 & 96 & 1 & 2 & 60000 &  75.14\\\\\n",
       "\t 100229 & 1 & 35 & 3589267 & 11 & 1 & 2 & 96 & 4 & 3 & ⋯ & 7 & 2 & 96 & 996 & 96 & 96 & 1 & 2 & 60000 &  63.87\\\\\n",
       "\\end{tabular}\n"
      ],
      "text/markdown": [
       "\n",
       "A tibble: 6 × 185\n",
       "\n",
       "| SCANID &lt;dbl&gt; | MODULE &lt;dbl&gt; | PROVID &lt;dbl&gt; | SCHID &lt;dbl&gt; | GRADE &lt;dbl&gt; | SEX &lt;dbl&gt; | SS_010 &lt;dbl&gt; | SS_020 &lt;dbl&gt; | TS_011 &lt;dbl&gt; | TV_010 &lt;dbl&gt; | ⋯ ⋯ | DVTY2ST &lt;dbl&gt; | DVLAST30 &lt;dbl&gt; | DVAMTSMK &lt;dbl&gt; | DVCIGWK &lt;dbl&gt; | DVNDSMK &lt;dbl&gt; | DVAVCIGD &lt;dbl&gt; | DVRES &lt;dbl&gt; | DVURBAN &lt;dbl&gt; | DVHHINC2 &lt;dbl&gt; | WTPP &lt;dbl&gt; |\n",
       "|---|---|---|---|---|---|---|---|---|---|---|---|---|---|---|---|---|---|---|---|---|\n",
       "| 100224 | 1 | 35 | 3589267 |  9 | 1 | 1 | 13 | 2 | 3 | ⋯ | 1 | 1 |  1 |   8 |  5 |  2 | 1 | 2 | 60000 |  33.15 |\n",
       "| 100225 | 1 | 35 | 3589267 |  9 | 1 | 1 | 13 | 1 | 1 | ⋯ | 1 | 1 | 10 |  70 |  7 | 10 | 1 | 2 | 60000 |  33.15 |\n",
       "| 100226 | 1 | 35 | 3589267 | 12 | 1 | 2 | 96 | 4 | 3 | ⋯ | 7 | 2 | 96 | 996 | 96 | 96 | 3 | 2 | 60000 |  75.14 |\n",
       "| 100227 | 1 | 35 | 3589267 | 12 | 2 | 1 |  2 | 3 | 2 | ⋯ | 4 | 1 |  0 |   0 |  0 |  0 | 1 | 2 | 60000 | 105.70 |\n",
       "| 100228 | 1 | 35 | 3589267 | 12 | 1 | 1 |  2 | 3 | 3 | ⋯ | 6 | 2 | 96 | 996 | 96 | 96 | 1 | 2 | 60000 |  75.14 |\n",
       "| 100229 | 1 | 35 | 3589267 | 11 | 1 | 2 | 96 | 4 | 3 | ⋯ | 7 | 2 | 96 | 996 | 96 | 96 | 1 | 2 | 60000 |  63.87 |\n",
       "\n"
      ],
      "text/plain": [
       "  SCANID MODULE PROVID SCHID   GRADE SEX SS_010 SS_020 TS_011 TV_010 ⋯ DVTY2ST\n",
       "1 100224 1      35     3589267  9    1   1      13     2      3      ⋯ 1      \n",
       "2 100225 1      35     3589267  9    1   1      13     1      1      ⋯ 1      \n",
       "3 100226 1      35     3589267 12    1   2      96     4      3      ⋯ 7      \n",
       "4 100227 1      35     3589267 12    2   1       2     3      2      ⋯ 4      \n",
       "5 100228 1      35     3589267 12    1   1       2     3      3      ⋯ 6      \n",
       "6 100229 1      35     3589267 11    1   2      96     4      3      ⋯ 7      \n",
       "  DVLAST30 DVAMTSMK DVCIGWK DVNDSMK DVAVCIGD DVRES DVURBAN DVHHINC2 WTPP  \n",
       "1 1         1         8      5       2       1     2       60000     33.15\n",
       "2 1        10        70      7      10       1     2       60000     33.15\n",
       "3 2        96       996     96      96       3     2       60000     75.14\n",
       "4 1         0         0      0       0       1     2       60000    105.70\n",
       "5 2        96       996     96      96       1     2       60000     75.14\n",
       "6 2        96       996     96      96       1     2       60000     63.87"
      ]
     },
     "metadata": {},
     "output_type": "display_data"
    }
   ],
   "source": [
    "drugdata <- read_tsv(\"cstdata.tab\") |> suppressMessages()\n",
    "\n",
    "head(drugdata)"
   ]
  },
  {
   "cell_type": "markdown",
   "id": "0dabf7d4-781e-4a79-988f-4c10c6b2516c",
   "metadata": {},
   "source": [
    "### Tidying and cleaning the data"
   ]
  },
  {
   "cell_type": "markdown",
   "id": "d81f208c-1844-4202-915f-f42c8db832f0",
   "metadata": {},
   "source": [
    "We select only the data that we need for the method `ALC_030`, `SS_020`, and `CAN_040`, and re-name the columns for it to be easily understood by the reader `alcohol_age`, `cigarette_age`, and `marijuana_fqcy`. \n",
    "\n",
    "We then filter the data to only show responses that are needed for our analysis. Therefore, we will filter out any responses that include \"not stated\", which are `alcohol_age`, `cigarette_age`,  `marijuana_fqcy`, `alcohol_age2`, and `cigarette_age2`. \n",
    "\n",
    "Next, for those who have never tried cigarettes or alcohol, they were given a value of 99. For easier visualization when plotting a bar graph, we let the value of 99 be represented as 20. In other words, those who have never tried cigarettes or alcohol are represented as the age of 20.  Once again, we load the first 6 rows of our tidy data.\n",
    "\n",
    "As additional information, each possible predictor meaning is as follows:\n",
    "- `alcohol_age` : Age which an individual first tried alcohol\n",
    "- `cigarette_age` : Age which and individual first tried smoking cigarettes\n",
    "- `marijuana_fqcy` : How often an individual has used marijuana in the last 30 days\n"
   ]
  },
  {
   "cell_type": "code",
   "execution_count": 42,
   "id": "7560cb50-3f89-4982-8b3c-20084882e4c8",
   "metadata": {
    "tags": []
   },
   "outputs": [
    {
     "data": {
      "text/html": [
       "<table class=\"dataframe\">\n",
       "<caption>A tibble: 6 × 3</caption>\n",
       "<thead>\n",
       "\t<tr><th scope=col>alcohol_age</th><th scope=col>cigarette_age</th><th scope=col>marijuana_fqcy</th></tr>\n",
       "\t<tr><th scope=col>&lt;dbl&gt;</th><th scope=col>&lt;dbl&gt;</th><th scope=col>&lt;dbl&gt;</th></tr>\n",
       "</thead>\n",
       "<tbody>\n",
       "\t<tr><td>13</td><td>13</td><td>96</td></tr>\n",
       "\t<tr><td>10</td><td>13</td><td> 6</td></tr>\n",
       "\t<tr><td>13</td><td>96</td><td> 2</td></tr>\n",
       "\t<tr><td>14</td><td> 2</td><td> 2</td></tr>\n",
       "\t<tr><td>12</td><td> 2</td><td> 2</td></tr>\n",
       "\t<tr><td> 8</td><td>96</td><td>96</td></tr>\n",
       "</tbody>\n",
       "</table>\n"
      ],
      "text/latex": [
       "A tibble: 6 × 3\n",
       "\\begin{tabular}{lll}\n",
       " alcohol\\_age & cigarette\\_age & marijuana\\_fqcy\\\\\n",
       " <dbl> & <dbl> & <dbl>\\\\\n",
       "\\hline\n",
       "\t 13 & 13 & 96\\\\\n",
       "\t 10 & 13 &  6\\\\\n",
       "\t 13 & 96 &  2\\\\\n",
       "\t 14 &  2 &  2\\\\\n",
       "\t 12 &  2 &  2\\\\\n",
       "\t  8 & 96 & 96\\\\\n",
       "\\end{tabular}\n"
      ],
      "text/markdown": [
       "\n",
       "A tibble: 6 × 3\n",
       "\n",
       "| alcohol_age &lt;dbl&gt; | cigarette_age &lt;dbl&gt; | marijuana_fqcy &lt;dbl&gt; |\n",
       "|---|---|---|\n",
       "| 13 | 13 | 96 |\n",
       "| 10 | 13 |  6 |\n",
       "| 13 | 96 |  2 |\n",
       "| 14 |  2 |  2 |\n",
       "| 12 |  2 |  2 |\n",
       "|  8 | 96 | 96 |\n",
       "\n"
      ],
      "text/plain": [
       "  alcohol_age cigarette_age marijuana_fqcy\n",
       "1 13          13            96            \n",
       "2 10          13             6            \n",
       "3 13          96             2            \n",
       "4 14           2             2            \n",
       "5 12           2             2            \n",
       "6  8          96            96            "
      ]
     },
     "metadata": {},
     "output_type": "display_data"
    },
    {
     "data": {
      "text/html": [
       "<table class=\"dataframe\">\n",
       "<caption>A tibble: 6 × 5</caption>\n",
       "<thead>\n",
       "\t<tr><th scope=col>alcohol_age</th><th scope=col>cigarette_age</th><th scope=col>marijuana_fqcy</th><th scope=col>alcohol_age2</th><th scope=col>cigarette_age2</th></tr>\n",
       "\t<tr><th scope=col>&lt;dbl&gt;</th><th scope=col>&lt;dbl&gt;</th><th scope=col>&lt;dbl&gt;</th><th scope=col>&lt;dbl&gt;</th><th scope=col>&lt;dbl&gt;</th></tr>\n",
       "</thead>\n",
       "<tbody>\n",
       "\t<tr><td>10</td><td>13</td><td>6</td><td>10</td><td>13</td></tr>\n",
       "\t<tr><td>15</td><td>17</td><td>2</td><td>15</td><td>17</td></tr>\n",
       "\t<tr><td>14</td><td>12</td><td>5</td><td>14</td><td>12</td></tr>\n",
       "\t<tr><td>14</td><td>15</td><td>1</td><td>14</td><td>15</td></tr>\n",
       "\t<tr><td>15</td><td> 8</td><td>4</td><td>15</td><td> 8</td></tr>\n",
       "\t<tr><td>10</td><td>12</td><td>3</td><td>10</td><td>12</td></tr>\n",
       "</tbody>\n",
       "</table>\n"
      ],
      "text/latex": [
       "A tibble: 6 × 5\n",
       "\\begin{tabular}{lllll}\n",
       " alcohol\\_age & cigarette\\_age & marijuana\\_fqcy & alcohol\\_age2 & cigarette\\_age2\\\\\n",
       " <dbl> & <dbl> & <dbl> & <dbl> & <dbl>\\\\\n",
       "\\hline\n",
       "\t 10 & 13 & 6 & 10 & 13\\\\\n",
       "\t 15 & 17 & 2 & 15 & 17\\\\\n",
       "\t 14 & 12 & 5 & 14 & 12\\\\\n",
       "\t 14 & 15 & 1 & 14 & 15\\\\\n",
       "\t 15 &  8 & 4 & 15 &  8\\\\\n",
       "\t 10 & 12 & 3 & 10 & 12\\\\\n",
       "\\end{tabular}\n"
      ],
      "text/markdown": [
       "\n",
       "A tibble: 6 × 5\n",
       "\n",
       "| alcohol_age &lt;dbl&gt; | cigarette_age &lt;dbl&gt; | marijuana_fqcy &lt;dbl&gt; | alcohol_age2 &lt;dbl&gt; | cigarette_age2 &lt;dbl&gt; |\n",
       "|---|---|---|---|---|\n",
       "| 10 | 13 | 6 | 10 | 13 |\n",
       "| 15 | 17 | 2 | 15 | 17 |\n",
       "| 14 | 12 | 5 | 14 | 12 |\n",
       "| 14 | 15 | 1 | 14 | 15 |\n",
       "| 15 |  8 | 4 | 15 |  8 |\n",
       "| 10 | 12 | 3 | 10 | 12 |\n",
       "\n"
      ],
      "text/plain": [
       "  alcohol_age cigarette_age marijuana_fqcy alcohol_age2 cigarette_age2\n",
       "1 10          13            6              10           13            \n",
       "2 15          17            2              15           17            \n",
       "3 14          12            5              14           12            \n",
       "4 14          15            1              14           15            \n",
       "5 15           8            4              15            8            \n",
       "6 10          12            3              10           12            "
      ]
     },
     "metadata": {},
     "output_type": "display_data"
    }
   ],
   "source": [
    "selected_drugdata <- select(drugdata, ALC_030 , SS_020, CAN_040)\n",
    "colnames(selected_drugdata) <- c(\"alcohol_age\",\"cigarette_age\", \"marijuana_fqcy\")\n",
    "\n",
    "filtered_drugdata <- selected_drugdata |>\n",
    "    filter(between(alcohol_age,8,18) | alcohol_age == 99) |>\n",
    "    filter(between(cigarette_age,8,18)  | cigarette_age == 99) |>\n",
    "    filter(between(marijuana_fqcy,1,6))\n",
    "\n",
    "filtered_drugdata2 <- filtered_drugdata |>\n",
    "    mutate(alcohol_age2 = case_when(\n",
    "        alcohol_age == \"99\" ~ 20,\n",
    "        alcohol_age == \"8\"~8,\n",
    "        alcohol_age == \"9\"~9,\n",
    "        alcohol_age == \"10\"~10,\n",
    "        alcohol_age == \"11\"~11,\n",
    "        alcohol_age == \"12\"~12,\n",
    "        alcohol_age == \"13\"~13,\n",
    "        alcohol_age == \"14\"~14,\n",
    "        alcohol_age == \"15\"~15,\n",
    "        alcohol_age == \"16\"~16,\n",
    "        alcohol_age == \"17\"~17,\n",
    "        alcohol_age == \"18\"~18)) |>\n",
    "    mutate(cigarette_age2 = case_when(\n",
    "        cigarette_age == \"99\" ~ 20,\n",
    "        cigarette_age == \"8\"~8,\n",
    "        cigarette_age == \"9\"~9,\n",
    "        cigarette_age == \"10\"~10,\n",
    "        cigarette_age == \"11\"~11,\n",
    "        cigarette_age == \"12\"~12,\n",
    "        cigarette_age == \"13\"~13,\n",
    "        cigarette_age == \"14\"~14,\n",
    "        cigarette_age == \"15\"~15,\n",
    "        cigarette_age == \"16\"~16,\n",
    "        cigarette_age == \"17\"~17,\n",
    "        cigarette_age == \"18\"~18))\n",
    "\n",
    "head(selected_drugdata)\n",
    "\n",
    "head(filtered_drugdata2)"
   ]
  },
  {
   "cell_type": "markdown",
   "id": "f8bed9fa-9de5-475a-b478-4ca1cfc4b72a",
   "metadata": {},
   "source": [
    "We then mutate a new column to make the predictor a factor. Instead of having the frequency an individual smokes marijuana, for simplicity, we grouped them into 2 groups - **yes** has smoked marijuana in the last 30 days, and **no**, has not smoked marijuana in the last 30 days."
   ]
  },
  {
   "cell_type": "code",
   "execution_count": 43,
   "id": "32e02d81-3609-4e37-aa7b-ef0d2f737a5d",
   "metadata": {
    "tags": []
   },
   "outputs": [
    {
     "data": {
      "text/html": [
       "<table class=\"dataframe\">\n",
       "<caption>A tibble: 6 × 6</caption>\n",
       "<thead>\n",
       "\t<tr><th scope=col>alcohol_age</th><th scope=col>cigarette_age</th><th scope=col>marijuana_fqcy</th><th scope=col>alcohol_age2</th><th scope=col>cigarette_age2</th><th scope=col>tried_marijuana</th></tr>\n",
       "\t<tr><th scope=col>&lt;dbl&gt;</th><th scope=col>&lt;dbl&gt;</th><th scope=col>&lt;dbl&gt;</th><th scope=col>&lt;dbl&gt;</th><th scope=col>&lt;dbl&gt;</th><th scope=col>&lt;fct&gt;</th></tr>\n",
       "</thead>\n",
       "<tbody>\n",
       "\t<tr><td>10</td><td>13</td><td>6</td><td>10</td><td>13</td><td>yes</td></tr>\n",
       "\t<tr><td>15</td><td>17</td><td>2</td><td>15</td><td>17</td><td>yes</td></tr>\n",
       "\t<tr><td>14</td><td>12</td><td>5</td><td>14</td><td>12</td><td>yes</td></tr>\n",
       "\t<tr><td>14</td><td>15</td><td>1</td><td>14</td><td>15</td><td>no </td></tr>\n",
       "\t<tr><td>15</td><td> 8</td><td>4</td><td>15</td><td> 8</td><td>yes</td></tr>\n",
       "\t<tr><td>10</td><td>12</td><td>3</td><td>10</td><td>12</td><td>yes</td></tr>\n",
       "</tbody>\n",
       "</table>\n"
      ],
      "text/latex": [
       "A tibble: 6 × 6\n",
       "\\begin{tabular}{llllll}\n",
       " alcohol\\_age & cigarette\\_age & marijuana\\_fqcy & alcohol\\_age2 & cigarette\\_age2 & tried\\_marijuana\\\\\n",
       " <dbl> & <dbl> & <dbl> & <dbl> & <dbl> & <fct>\\\\\n",
       "\\hline\n",
       "\t 10 & 13 & 6 & 10 & 13 & yes\\\\\n",
       "\t 15 & 17 & 2 & 15 & 17 & yes\\\\\n",
       "\t 14 & 12 & 5 & 14 & 12 & yes\\\\\n",
       "\t 14 & 15 & 1 & 14 & 15 & no \\\\\n",
       "\t 15 &  8 & 4 & 15 &  8 & yes\\\\\n",
       "\t 10 & 12 & 3 & 10 & 12 & yes\\\\\n",
       "\\end{tabular}\n"
      ],
      "text/markdown": [
       "\n",
       "A tibble: 6 × 6\n",
       "\n",
       "| alcohol_age &lt;dbl&gt; | cigarette_age &lt;dbl&gt; | marijuana_fqcy &lt;dbl&gt; | alcohol_age2 &lt;dbl&gt; | cigarette_age2 &lt;dbl&gt; | tried_marijuana &lt;fct&gt; |\n",
       "|---|---|---|---|---|---|\n",
       "| 10 | 13 | 6 | 10 | 13 | yes |\n",
       "| 15 | 17 | 2 | 15 | 17 | yes |\n",
       "| 14 | 12 | 5 | 14 | 12 | yes |\n",
       "| 14 | 15 | 1 | 14 | 15 | no  |\n",
       "| 15 |  8 | 4 | 15 |  8 | yes |\n",
       "| 10 | 12 | 3 | 10 | 12 | yes |\n",
       "\n"
      ],
      "text/plain": [
       "  alcohol_age cigarette_age marijuana_fqcy alcohol_age2 cigarette_age2\n",
       "1 10          13            6              10           13            \n",
       "2 15          17            2              15           17            \n",
       "3 14          12            5              14           12            \n",
       "4 14          15            1              14           15            \n",
       "5 15           8            4              15            8            \n",
       "6 10          12            3              10           12            \n",
       "  tried_marijuana\n",
       "1 yes            \n",
       "2 yes            \n",
       "3 yes            \n",
       "4 no             \n",
       "5 yes            \n",
       "6 yes            "
      ]
     },
     "metadata": {},
     "output_type": "display_data"
    }
   ],
   "source": [
    "mutated_data <- filtered_drugdata2 |>\n",
    "    mutate(tried_marijuana = case_when(\n",
    "        marijuana_fqcy == \"1\" ~ \"no\",\n",
    "        marijuana_fqcy == \"2\" ~ \"yes\",\n",
    "        marijuana_fqcy == \"3\" ~ \"yes\",\n",
    "        marijuana_fqcy == \"4\" ~ \"yes\",\n",
    "        marijuana_fqcy == \"5\" ~ \"yes\",\n",
    "        marijuana_fqcy == \"6\" ~ \"yes\")) |>\n",
    "    mutate(tried_marijuana = as_factor(tried_marijuana))|>\n",
    "    filter(!(tried_marijuana == \"NA\"))\n",
    "\n",
    "head(mutated_data) "
   ]
  },
  {
   "cell_type": "markdown",
   "id": "a2293469-5c05-45e2-8356-8674b67cb438",
   "metadata": {},
   "source": [
    "Table 1 : Shows all the variables we will be working with"
   ]
  },
  {
   "cell_type": "markdown",
   "id": "909de568-2abf-4c10-88c9-bc12f45f2526",
   "metadata": {},
   "source": [
    "Below shows the number of respondents in each category. "
   ]
  },
  {
   "cell_type": "code",
   "execution_count": 44,
   "id": "c1269de4-55fd-4435-a717-706097991e4d",
   "metadata": {
    "tags": []
   },
   "outputs": [],
   "source": [
    "respondents_alcohol <- mutated_data |>\n",
    "        group_by(alcohol_age2, tried_marijuana) |>\n",
    "        summarize(count=n()) |> suppressMessages()\n",
    "\n",
    "\n",
    "respondents_cigarettes <- mutated_data |>\n",
    "    group_by(cigarette_age2,tried_marijuana) |>\n",
    "    summarize(count=n()) |> suppressMessages()"
   ]
  },
  {
   "cell_type": "code",
   "execution_count": 45,
   "id": "e5278724-fe31-44c0-907e-cd70117ac26c",
   "metadata": {
    "tags": []
   },
   "outputs": [
    {
     "data": {
      "text/html": [
       "<table class=\"dataframe\">\n",
       "<caption>A grouped_df: 24 × 3</caption>\n",
       "<thead>\n",
       "\t<tr><th scope=col>alcohol_age2</th><th scope=col>tried_marijuana</th><th scope=col>count</th></tr>\n",
       "\t<tr><th scope=col>&lt;dbl&gt;</th><th scope=col>&lt;fct&gt;</th><th scope=col>&lt;int&gt;</th></tr>\n",
       "</thead>\n",
       "<tbody>\n",
       "\t<tr><td>8</td><td>yes</td><td>320</td></tr>\n",
       "\t<tr><td>8</td><td>no </td><td>122</td></tr>\n",
       "\t<tr><td>9</td><td>yes</td><td> 89</td></tr>\n",
       "\t<tr><td>⋮</td><td>⋮</td><td>⋮</td></tr>\n",
       "\t<tr><td>18</td><td>no </td><td> 6</td></tr>\n",
       "\t<tr><td>20</td><td>yes</td><td>72</td></tr>\n",
       "\t<tr><td>20</td><td>no </td><td>32</td></tr>\n",
       "</tbody>\n",
       "</table>\n"
      ],
      "text/latex": [
       "A grouped\\_df: 24 × 3\n",
       "\\begin{tabular}{lll}\n",
       " alcohol\\_age2 & tried\\_marijuana & count\\\\\n",
       " <dbl> & <fct> & <int>\\\\\n",
       "\\hline\n",
       "\t 8 & yes & 320\\\\\n",
       "\t 8 & no  & 122\\\\\n",
       "\t 9 & yes &  89\\\\\n",
       "\t ⋮ & ⋮ & ⋮\\\\\n",
       "\t 18 & no  &  6\\\\\n",
       "\t 20 & yes & 72\\\\\n",
       "\t 20 & no  & 32\\\\\n",
       "\\end{tabular}\n"
      ],
      "text/markdown": [
       "\n",
       "A grouped_df: 24 × 3\n",
       "\n",
       "| alcohol_age2 &lt;dbl&gt; | tried_marijuana &lt;fct&gt; | count &lt;int&gt; |\n",
       "|---|---|---|\n",
       "| 8 | yes | 320 |\n",
       "| 8 | no  | 122 |\n",
       "| 9 | yes |  89 |\n",
       "| ⋮ | ⋮ | ⋮ |\n",
       "| 18 | no  |  6 |\n",
       "| 20 | yes | 72 |\n",
       "| 20 | no  | 32 |\n",
       "\n"
      ],
      "text/plain": [
       "   alcohol_age2 tried_marijuana count\n",
       "1  8            yes             320  \n",
       "2  8            no              122  \n",
       "3  9            yes              89  \n",
       "⋮  ⋮            ⋮               ⋮    \n",
       "22 18           no               6   \n",
       "23 20           yes             72   \n",
       "24 20           no              32   "
      ]
     },
     "metadata": {},
     "output_type": "display_data"
    }
   ],
   "source": [
    "respondents_alcohol"
   ]
  },
  {
   "cell_type": "markdown",
   "id": "7f8cc968-2124-4d32-bd09-b70ea4d1a3ef",
   "metadata": {},
   "source": [
    "Table 2.1 : Shows the number of respondents to the question \"How old were you when you first had a drink of alcohol that \n",
    "was more than just a sip?\" in each age category who have smoked marijuana and have not smoked marijuana in the last 30 days."
   ]
  },
  {
   "cell_type": "code",
   "execution_count": 46,
   "id": "7e2f6dd4-1f0c-4f41-bf6e-5a792cead0d4",
   "metadata": {
    "tags": []
   },
   "outputs": [
    {
     "data": {
      "text/html": [
       "<table class=\"dataframe\">\n",
       "<caption>A grouped_df: 24 × 3</caption>\n",
       "<thead>\n",
       "\t<tr><th scope=col>cigarette_age2</th><th scope=col>tried_marijuana</th><th scope=col>count</th></tr>\n",
       "\t<tr><th scope=col>&lt;dbl&gt;</th><th scope=col>&lt;fct&gt;</th><th scope=col>&lt;int&gt;</th></tr>\n",
       "</thead>\n",
       "<tbody>\n",
       "\t<tr><td>8</td><td>yes</td><td>224</td></tr>\n",
       "\t<tr><td>8</td><td>no </td><td> 79</td></tr>\n",
       "\t<tr><td>9</td><td>yes</td><td> 95</td></tr>\n",
       "\t<tr><td>⋮</td><td>⋮</td><td>⋮</td></tr>\n",
       "\t<tr><td>18</td><td>no </td><td> 8</td></tr>\n",
       "\t<tr><td>20</td><td>yes</td><td>29</td></tr>\n",
       "\t<tr><td>20</td><td>no </td><td>13</td></tr>\n",
       "</tbody>\n",
       "</table>\n"
      ],
      "text/latex": [
       "A grouped\\_df: 24 × 3\n",
       "\\begin{tabular}{lll}\n",
       " cigarette\\_age2 & tried\\_marijuana & count\\\\\n",
       " <dbl> & <fct> & <int>\\\\\n",
       "\\hline\n",
       "\t 8 & yes & 224\\\\\n",
       "\t 8 & no  &  79\\\\\n",
       "\t 9 & yes &  95\\\\\n",
       "\t ⋮ & ⋮ & ⋮\\\\\n",
       "\t 18 & no  &  8\\\\\n",
       "\t 20 & yes & 29\\\\\n",
       "\t 20 & no  & 13\\\\\n",
       "\\end{tabular}\n"
      ],
      "text/markdown": [
       "\n",
       "A grouped_df: 24 × 3\n",
       "\n",
       "| cigarette_age2 &lt;dbl&gt; | tried_marijuana &lt;fct&gt; | count &lt;int&gt; |\n",
       "|---|---|---|\n",
       "| 8 | yes | 224 |\n",
       "| 8 | no  |  79 |\n",
       "| 9 | yes |  95 |\n",
       "| ⋮ | ⋮ | ⋮ |\n",
       "| 18 | no  |  8 |\n",
       "| 20 | yes | 29 |\n",
       "| 20 | no  | 13 |\n",
       "\n"
      ],
      "text/plain": [
       "   cigarette_age2 tried_marijuana count\n",
       "1  8              yes             224  \n",
       "2  8              no               79  \n",
       "3  9              yes              95  \n",
       "⋮  ⋮              ⋮               ⋮    \n",
       "22 18             no               8   \n",
       "23 20             yes             29   \n",
       "24 20             no              13   "
      ]
     },
     "metadata": {},
     "output_type": "display_data"
    }
   ],
   "source": [
    "respondents_cigarettes"
   ]
  },
  {
   "cell_type": "markdown",
   "id": "b4c869b2-95ae-4b4b-857e-2aa9c940fb8d",
   "metadata": {},
   "source": [
    "Table 2.2 : Shows the number of respondents to the question \"How old were you when you first used marijuana or \n",
    "cannabis?\" in each age category who have smoked marijuana and have not smoked marijuana in the last 30 days."
   ]
  },
  {
   "cell_type": "markdown",
   "id": "21cfba82-d607-48a6-8a74-d8dff64e92b3",
   "metadata": {},
   "source": [
    "For easy visualization, we plotted the number of respondents in each category into a bar chart. We also coloured the bar plot into 2 colours to represent those who have tried marijuana in the past 30 days and those who did not. The first graph is alcohol consumption age vs number of individuals, and the second graph is cigarette use age vs number of individuals."
   ]
  },
  {
   "cell_type": "code",
   "execution_count": 47,
   "id": "f5116a9f-0615-4e80-b338-dcc5bffcafd5",
   "metadata": {
    "tags": []
   },
   "outputs": [
    {
     "data": {
      "image/png": "[encoded data removed]",
      "text/plain": [
       "plot without title"
      ]
     },
     "metadata": {
      "image/png": {
       "height": 360,
       "width": 480
      }
     },
     "output_type": "display_data"
    }
   ],
   "source": [
    "options(repr.plot.width = 8, repr.plot.height = 6)\n",
    "\n",
    "barplot <- respondents_alcohol |>\n",
    "    ggplot(aes(x= alcohol_age2, y = count, fill = factor(tried_marijuana)))+\n",
    "    geom_bar(stat= 'identity') +\n",
    "    labs(x = \"age (years)\", y = \"number of individuals\", \n",
    "         title = \"Individuals First Consumed Alcohol\", fill = \"marijuana use\") +\n",
    "    theme(text = element_text(size = 15), plot.title = element_text(hjust = 0.5))\n",
    "\n",
    "barplot"
   ]
  },
  {
   "cell_type": "markdown",
   "id": "a6cb7ada-4184-496b-b947-898a2441673d",
   "metadata": {},
   "source": [
    "Graph 1 : Shows a visualization of table2.1"
   ]
  },
  {
   "cell_type": "code",
   "execution_count": 48,
   "id": "d218c88b-5513-47c0-aefa-d0ddf8201493",
   "metadata": {
    "tags": []
   },
   "outputs": [
    {
     "data": {
      "image/png": "[encoded data removed]",
      "text/plain": [
       "plot without title"
      ]
     },
     "metadata": {
      "image/png": {
       "height": 360,
       "width": 480
      }
     },
     "output_type": "display_data"
    }
   ],
   "source": [
    "options(repr.plot.width = 8, repr.plot.height = 6)\n",
    "\n",
    "barplot2 <- respondents_cigarettes |>\n",
    "    ggplot(aes(x= cigarette_age2, y = count, fill = factor(tried_marijuana)))+\n",
    "    geom_bar(stat= 'identity') +\n",
    "    labs(x = \"age (years)\", y = \"number of individuals\", \n",
    "         title = \"Individuals First Consumed Cigarettes\", fill = \"marijuana use\") +\n",
    "    theme(text = element_text(size = 15), plot.title = element_text(hjust = 0.5))\n",
    "\n",
    "barplot2"
   ]
  },
  {
   "cell_type": "markdown",
   "id": "1549c4ee-b38c-4348-8247-dd4d5dfcbb15",
   "metadata": {},
   "source": [
    "Graph 2 : Shows a visualization of table 2.2"
   ]
  },
  {
   "cell_type": "markdown",
   "id": "5e85ed19-a0dc-45a4-9b35-6f2c8bbb0f8a",
   "metadata": {},
   "source": [
    "### Splitting the data into training and testing set"
   ]
  },
  {
   "cell_type": "markdown",
   "id": "3fc808fd-c100-4e5f-bc73-fba445fe0840",
   "metadata": {},
   "source": [
    "Now, we can split the data set into training data, and testing data. We then create the recipe and scale all data. The exploratory analysis and model below will only be built based on the training data. For the testing data, we will only use it to evaluate the accuracy of our prediction and summarize how well our prediction does. Furthermore, we set `strata = tried_marijuana` so that our target class is people who tried marijuana. Lastly, we use 75 percent of our original data set as our training data using `prop = 0.75`. This number of splitting is reasonable because we have enough data for training and testing. "
   ]
  },
  {
   "cell_type": "code",
   "execution_count": 49,
   "id": "f2147270-8829-4744-8f4d-3c207b48bc8d",
   "metadata": {
    "tags": []
   },
   "outputs": [],
   "source": [
    "set.seed(1)\n",
    "drugdata_split <- initial_split(mutated_data, prop = 0.75, strata = tried_marijuana)  \n",
    "drugdata_train <- training(drugdata_split)\n",
    "drugdata_test <- testing(drugdata_split)"
   ]
  },
  {
   "cell_type": "code",
   "execution_count": 50,
   "id": "fceb0380-d570-40f9-8a37-13005c10d773",
   "metadata": {
    "tags": []
   },
   "outputs": [
    {
     "data": {
      "text/html": [
       "<table class=\"dataframe\">\n",
       "<caption>A tibble: 4565 × 6</caption>\n",
       "<thead>\n",
       "\t<tr><th scope=col>alcohol_age</th><th scope=col>cigarette_age</th><th scope=col>marijuana_fqcy</th><th scope=col>alcohol_age2</th><th scope=col>cigarette_age2</th><th scope=col>tried_marijuana</th></tr>\n",
       "\t<tr><th scope=col>&lt;dbl&gt;</th><th scope=col>&lt;dbl&gt;</th><th scope=col>&lt;dbl&gt;</th><th scope=col>&lt;dbl&gt;</th><th scope=col>&lt;dbl&gt;</th><th scope=col>&lt;fct&gt;</th></tr>\n",
       "</thead>\n",
       "<tbody>\n",
       "\t<tr><td>14</td><td>15</td><td>1</td><td>14</td><td>15</td><td>no</td></tr>\n",
       "\t<tr><td>14</td><td>14</td><td>1</td><td>14</td><td>14</td><td>no</td></tr>\n",
       "\t<tr><td> 8</td><td> 9</td><td>1</td><td> 8</td><td> 9</td><td>no</td></tr>\n",
       "\t<tr><td>⋮</td><td>⋮</td><td>⋮</td><td>⋮</td><td>⋮</td><td>⋮</td></tr>\n",
       "\t<tr><td>14</td><td>14</td><td>3</td><td>14</td><td>14</td><td>yes</td></tr>\n",
       "\t<tr><td> 8</td><td>12</td><td>4</td><td> 8</td><td>12</td><td>yes</td></tr>\n",
       "\t<tr><td>11</td><td>10</td><td>4</td><td>11</td><td>10</td><td>yes</td></tr>\n",
       "</tbody>\n",
       "</table>\n"
      ],
      "text/latex": [
       "A tibble: 4565 × 6\n",
       "\\begin{tabular}{llllll}\n",
       " alcohol\\_age & cigarette\\_age & marijuana\\_fqcy & alcohol\\_age2 & cigarette\\_age2 & tried\\_marijuana\\\\\n",
       " <dbl> & <dbl> & <dbl> & <dbl> & <dbl> & <fct>\\\\\n",
       "\\hline\n",
       "\t 14 & 15 & 1 & 14 & 15 & no\\\\\n",
       "\t 14 & 14 & 1 & 14 & 14 & no\\\\\n",
       "\t  8 &  9 & 1 &  8 &  9 & no\\\\\n",
       "\t ⋮ & ⋮ & ⋮ & ⋮ & ⋮ & ⋮\\\\\n",
       "\t 14 & 14 & 3 & 14 & 14 & yes\\\\\n",
       "\t  8 & 12 & 4 &  8 & 12 & yes\\\\\n",
       "\t 11 & 10 & 4 & 11 & 10 & yes\\\\\n",
       "\\end{tabular}\n"
      ],
      "text/markdown": [
       "\n",
       "A tibble: 4565 × 6\n",
       "\n",
       "| alcohol_age &lt;dbl&gt; | cigarette_age &lt;dbl&gt; | marijuana_fqcy &lt;dbl&gt; | alcohol_age2 &lt;dbl&gt; | cigarette_age2 &lt;dbl&gt; | tried_marijuana &lt;fct&gt; |\n",
       "|---|---|---|---|---|---|\n",
       "| 14 | 15 | 1 | 14 | 15 | no |\n",
       "| 14 | 14 | 1 | 14 | 14 | no |\n",
       "|  8 |  9 | 1 |  8 |  9 | no |\n",
       "| ⋮ | ⋮ | ⋮ | ⋮ | ⋮ | ⋮ |\n",
       "| 14 | 14 | 3 | 14 | 14 | yes |\n",
       "|  8 | 12 | 4 |  8 | 12 | yes |\n",
       "| 11 | 10 | 4 | 11 | 10 | yes |\n",
       "\n"
      ],
      "text/plain": [
       "     alcohol_age cigarette_age marijuana_fqcy alcohol_age2 cigarette_age2\n",
       "1    14          15            1              14           15            \n",
       "2    14          14            1              14           14            \n",
       "3     8           9            1               8            9            \n",
       "⋮    ⋮           ⋮             ⋮              ⋮            ⋮             \n",
       "4563 14          14            3              14           14            \n",
       "4564  8          12            4               8           12            \n",
       "4565 11          10            4              11           10            \n",
       "     tried_marijuana\n",
       "1    no             \n",
       "2    no             \n",
       "3    no             \n",
       "⋮    ⋮              \n",
       "4563 yes            \n",
       "4564 yes            \n",
       "4565 yes            "
      ]
     },
     "metadata": {},
     "output_type": "display_data"
    }
   ],
   "source": [
    "drugdata_train"
   ]
  },
  {
   "cell_type": "markdown",
   "id": "de29b4a5-5899-4ddd-9195-a3a0bbd60476",
   "metadata": {},
   "source": [
    "Table 3 : Training data set that will be used to build the model"
   ]
  },
  {
   "cell_type": "code",
   "execution_count": 51,
   "id": "21d8ed4d-3e49-4e0e-80e8-0f96ccb8956c",
   "metadata": {
    "tags": []
   },
   "outputs": [
    {
     "data": {
      "text/html": [
       "<table class=\"dataframe\">\n",
       "<caption>A tibble: 1522 × 6</caption>\n",
       "<thead>\n",
       "\t<tr><th scope=col>alcohol_age</th><th scope=col>cigarette_age</th><th scope=col>marijuana_fqcy</th><th scope=col>alcohol_age2</th><th scope=col>cigarette_age2</th><th scope=col>tried_marijuana</th></tr>\n",
       "\t<tr><th scope=col>&lt;dbl&gt;</th><th scope=col>&lt;dbl&gt;</th><th scope=col>&lt;dbl&gt;</th><th scope=col>&lt;dbl&gt;</th><th scope=col>&lt;dbl&gt;</th><th scope=col>&lt;fct&gt;</th></tr>\n",
       "</thead>\n",
       "<tbody>\n",
       "\t<tr><td>15</td><td>17</td><td>2</td><td>15</td><td>17</td><td>yes</td></tr>\n",
       "\t<tr><td>15</td><td>16</td><td>4</td><td>15</td><td>16</td><td>yes</td></tr>\n",
       "\t<tr><td>14</td><td>15</td><td>1</td><td>14</td><td>15</td><td>no </td></tr>\n",
       "\t<tr><td>⋮</td><td>⋮</td><td>⋮</td><td>⋮</td><td>⋮</td><td>⋮</td></tr>\n",
       "\t<tr><td>11</td><td>12</td><td>1</td><td>11</td><td>12</td><td>no </td></tr>\n",
       "\t<tr><td>13</td><td>13</td><td>1</td><td>13</td><td>13</td><td>no </td></tr>\n",
       "\t<tr><td>10</td><td>12</td><td>2</td><td>10</td><td>12</td><td>yes</td></tr>\n",
       "</tbody>\n",
       "</table>\n"
      ],
      "text/latex": [
       "A tibble: 1522 × 6\n",
       "\\begin{tabular}{llllll}\n",
       " alcohol\\_age & cigarette\\_age & marijuana\\_fqcy & alcohol\\_age2 & cigarette\\_age2 & tried\\_marijuana\\\\\n",
       " <dbl> & <dbl> & <dbl> & <dbl> & <dbl> & <fct>\\\\\n",
       "\\hline\n",
       "\t 15 & 17 & 2 & 15 & 17 & yes\\\\\n",
       "\t 15 & 16 & 4 & 15 & 16 & yes\\\\\n",
       "\t 14 & 15 & 1 & 14 & 15 & no \\\\\n",
       "\t ⋮ & ⋮ & ⋮ & ⋮ & ⋮ & ⋮\\\\\n",
       "\t 11 & 12 & 1 & 11 & 12 & no \\\\\n",
       "\t 13 & 13 & 1 & 13 & 13 & no \\\\\n",
       "\t 10 & 12 & 2 & 10 & 12 & yes\\\\\n",
       "\\end{tabular}\n"
      ],
      "text/markdown": [
       "\n",
       "A tibble: 1522 × 6\n",
       "\n",
       "| alcohol_age &lt;dbl&gt; | cigarette_age &lt;dbl&gt; | marijuana_fqcy &lt;dbl&gt; | alcohol_age2 &lt;dbl&gt; | cigarette_age2 &lt;dbl&gt; | tried_marijuana &lt;fct&gt; |\n",
       "|---|---|---|---|---|---|\n",
       "| 15 | 17 | 2 | 15 | 17 | yes |\n",
       "| 15 | 16 | 4 | 15 | 16 | yes |\n",
       "| 14 | 15 | 1 | 14 | 15 | no  |\n",
       "| ⋮ | ⋮ | ⋮ | ⋮ | ⋮ | ⋮ |\n",
       "| 11 | 12 | 1 | 11 | 12 | no  |\n",
       "| 13 | 13 | 1 | 13 | 13 | no  |\n",
       "| 10 | 12 | 2 | 10 | 12 | yes |\n",
       "\n"
      ],
      "text/plain": [
       "     alcohol_age cigarette_age marijuana_fqcy alcohol_age2 cigarette_age2\n",
       "1    15          17            2              15           17            \n",
       "2    15          16            4              15           16            \n",
       "3    14          15            1              14           15            \n",
       "⋮    ⋮           ⋮             ⋮              ⋮            ⋮             \n",
       "1520 11          12            1              11           12            \n",
       "1521 13          13            1              13           13            \n",
       "1522 10          12            2              10           12            \n",
       "     tried_marijuana\n",
       "1    yes            \n",
       "2    yes            \n",
       "3    no             \n",
       "⋮    ⋮              \n",
       "1520 no             \n",
       "1521 no             \n",
       "1522 yes            "
      ]
     },
     "metadata": {},
     "output_type": "display_data"
    }
   ],
   "source": [
    "drugdata_test"
   ]
  },
  {
   "cell_type": "markdown",
   "id": "ce6dba9c-119c-4122-9e17-629585c38112",
   "metadata": {},
   "source": [
    "Table 4 : Testing data set that will be used to evaluate the accuracy of the model"
   ]
  },
  {
   "cell_type": "markdown",
   "id": "49694de1-09e3-4f1f-b3db-aecbc6b52bdf",
   "metadata": {},
   "source": [
    "### Classification model"
   ]
  },
  {
   "cell_type": "markdown",
   "id": "ee57909b-b1e2-4857-ac4b-25a52c10f179",
   "metadata": {},
   "source": [
    "Since our predictor variables `alcohol_age2` and `cigarette_age2` do not vary, we will not need to scale the data."
   ]
  },
  {
   "cell_type": "code",
   "execution_count": 52,
   "id": "fc4228d8-dd49-42a0-b949-356a501e962e",
   "metadata": {
    "tags": []
   },
   "outputs": [
    {
     "name": "stderr",
     "output_type": "stream",
     "text": [
      "\n",
      "\n",
      "\u001b[36m──\u001b[39m \u001b[1mRecipe\u001b[22m \u001b[36m──────────────────────────────────────────────────────────────────────\u001b[39m\n",
      "\n",
      "\n",
      "\n",
      "── Inputs \n",
      "\n",
      "Number of variables by role\n",
      "\n",
      "outcome:   1\n",
      "predictor: 2\n",
      "\n"
     ]
    }
   ],
   "source": [
    "set.seed(9999)\n",
    "drug_recipe <- recipe(tried_marijuana ~  alcohol_age2 + cigarette_age2 , data = drugdata_train) \n",
    "\n",
    "drug_recipe"
   ]
  },
  {
   "cell_type": "markdown",
   "id": "cb039d4e-2d3a-4d5c-a035-f61331a6c7d7",
   "metadata": {},
   "source": [
    "Next, we will be using the cross-validation method for k values from 1-30. We'll divide the training data into 5 parts and let `strata = tried_marijuana`, the variable we are predicting. Then, plot the accuracy versus the number of k plots to find the optimal k-value we want to use. \n"
   ]
  },
  {
   "cell_type": "code",
   "execution_count": 53,
   "id": "c28f39e7-055d-46e8-ae1a-7423e79c756c",
   "metadata": {
    "tags": []
   },
   "outputs": [
    {
     "data": {
      "text/plain": [
       "K-Nearest Neighbor Model Specification (classification)\n",
       "\n",
       "Main Arguments:\n",
       "  neighbors = tune()\n",
       "  weight_func = rectangular\n",
       "\n",
       "Computational engine: kknn \n"
      ]
     },
     "metadata": {},
     "output_type": "display_data"
    }
   ],
   "source": [
    "set.seed(9999)\n",
    "\n",
    "drug_vfold <- vfold_cv(drugdata_train, v = 5, strata = tried_marijuana)\n",
    "\n",
    "drug_spec <- nearest_neighbor(weight_func = \"rectangular\", neighbors = tune())|>\n",
    "    set_engine(\"kknn\")|>\n",
    "    set_mode(\"classification\")\n",
    "\n",
    "drug_spec\n"
   ]
  },
  {
   "cell_type": "code",
   "execution_count": 54,
   "id": "e1152255-149a-4ab8-a096-ca551e6431e7",
   "metadata": {
    "tags": []
   },
   "outputs": [],
   "source": [
    "set.seed(9999)\n",
    "\n",
    "k_values1 <- tibble(neighbors = seq(1,30))\n",
    "\n",
    "drug_workflow <- workflow()|>\n",
    "    add_recipe(drug_recipe)|>\n",
    "    add_model(drug_spec)|>\n",
    "    tune_grid(resamples = drug_vfold, grid = k_values1)"
   ]
  },
  {
   "cell_type": "code",
   "execution_count": 56,
   "id": "765ca563-82be-4109-b792-e360b9c39aa4",
   "metadata": {
    "tags": []
   },
   "outputs": [
    {
     "data": {
      "text/html": [
       "<table class=\"dataframe\">\n",
       "<caption>A tibble: 30 × 7</caption>\n",
       "<thead>\n",
       "\t<tr><th scope=col>neighbors</th><th scope=col>.metric</th><th scope=col>.estimator</th><th scope=col>mean</th><th scope=col>n</th><th scope=col>std_err</th><th scope=col>.config</th></tr>\n",
       "\t<tr><th scope=col>&lt;int&gt;</th><th scope=col>&lt;chr&gt;</th><th scope=col>&lt;chr&gt;</th><th scope=col>&lt;dbl&gt;</th><th scope=col>&lt;int&gt;</th><th scope=col>&lt;dbl&gt;</th><th scope=col>&lt;chr&gt;</th></tr>\n",
       "</thead>\n",
       "<tbody>\n",
       "\t<tr><td>1</td><td>accuracy</td><td>binary</td><td>0.3774358</td><td>5</td><td>0.001406766</td><td>Preprocessor1_Model01</td></tr>\n",
       "\t<tr><td>2</td><td>accuracy</td><td>binary</td><td>0.3805028</td><td>5</td><td>0.001955022</td><td>Preprocessor1_Model02</td></tr>\n",
       "\t<tr><td>3</td><td>accuracy</td><td>binary</td><td>0.3794080</td><td>5</td><td>0.002389527</td><td>Preprocessor1_Model03</td></tr>\n",
       "\t<tr><td>⋮</td><td>⋮</td><td>⋮</td><td>⋮</td><td>⋮</td><td>⋮</td><td>⋮</td></tr>\n",
       "\t<tr><td>28</td><td>accuracy</td><td>binary</td><td>0.4615534</td><td>5</td><td>0.004253325</td><td>Preprocessor1_Model28</td></tr>\n",
       "\t<tr><td>29</td><td>accuracy</td><td>binary</td><td>0.4635242</td><td>5</td><td>0.006746037</td><td>Preprocessor1_Model29</td></tr>\n",
       "\t<tr><td>30</td><td>accuracy</td><td>binary</td><td>0.4626482</td><td>5</td><td>0.006733925</td><td>Preprocessor1_Model30</td></tr>\n",
       "</tbody>\n",
       "</table>\n"
      ],
      "text/latex": [
       "A tibble: 30 × 7\n",
       "\\begin{tabular}{lllllll}\n",
       " neighbors & .metric & .estimator & mean & n & std\\_err & .config\\\\\n",
       " <int> & <chr> & <chr> & <dbl> & <int> & <dbl> & <chr>\\\\\n",
       "\\hline\n",
       "\t 1 & accuracy & binary & 0.3774358 & 5 & 0.001406766 & Preprocessor1\\_Model01\\\\\n",
       "\t 2 & accuracy & binary & 0.3805028 & 5 & 0.001955022 & Preprocessor1\\_Model02\\\\\n",
       "\t 3 & accuracy & binary & 0.3794080 & 5 & 0.002389527 & Preprocessor1\\_Model03\\\\\n",
       "\t ⋮ & ⋮ & ⋮ & ⋮ & ⋮ & ⋮ & ⋮\\\\\n",
       "\t 28 & accuracy & binary & 0.4615534 & 5 & 0.004253325 & Preprocessor1\\_Model28\\\\\n",
       "\t 29 & accuracy & binary & 0.4635242 & 5 & 0.006746037 & Preprocessor1\\_Model29\\\\\n",
       "\t 30 & accuracy & binary & 0.4626482 & 5 & 0.006733925 & Preprocessor1\\_Model30\\\\\n",
       "\\end{tabular}\n"
      ],
      "text/markdown": [
       "\n",
       "A tibble: 30 × 7\n",
       "\n",
       "| neighbors &lt;int&gt; | .metric &lt;chr&gt; | .estimator &lt;chr&gt; | mean &lt;dbl&gt; | n &lt;int&gt; | std_err &lt;dbl&gt; | .config &lt;chr&gt; |\n",
       "|---|---|---|---|---|---|---|\n",
       "| 1 | accuracy | binary | 0.3774358 | 5 | 0.001406766 | Preprocessor1_Model01 |\n",
       "| 2 | accuracy | binary | 0.3805028 | 5 | 0.001955022 | Preprocessor1_Model02 |\n",
       "| 3 | accuracy | binary | 0.3794080 | 5 | 0.002389527 | Preprocessor1_Model03 |\n",
       "| ⋮ | ⋮ | ⋮ | ⋮ | ⋮ | ⋮ | ⋮ |\n",
       "| 28 | accuracy | binary | 0.4615534 | 5 | 0.004253325 | Preprocessor1_Model28 |\n",
       "| 29 | accuracy | binary | 0.4635242 | 5 | 0.006746037 | Preprocessor1_Model29 |\n",
       "| 30 | accuracy | binary | 0.4626482 | 5 | 0.006733925 | Preprocessor1_Model30 |\n",
       "\n"
      ],
      "text/plain": [
       "   neighbors .metric  .estimator mean      n std_err     .config              \n",
       "1  1         accuracy binary     0.3774358 5 0.001406766 Preprocessor1_Model01\n",
       "2  2         accuracy binary     0.3805028 5 0.001955022 Preprocessor1_Model02\n",
       "3  3         accuracy binary     0.3794080 5 0.002389527 Preprocessor1_Model03\n",
       "⋮  ⋮         ⋮        ⋮          ⋮         ⋮ ⋮           ⋮                    \n",
       "28 28        accuracy binary     0.4615534 5 0.004253325 Preprocessor1_Model28\n",
       "29 29        accuracy binary     0.4635242 5 0.006746037 Preprocessor1_Model29\n",
       "30 30        accuracy binary     0.4626482 5 0.006733925 Preprocessor1_Model30"
      ]
     },
     "metadata": {},
     "output_type": "display_data"
    }
   ],
   "source": [
    "set.seed(9999)\n",
    "\n",
    "drug_accuracies <- drug_workflow |>\n",
    "    collect_metrics() |>\n",
    "    filter(.metric == \"accuracy\")\n",
    "\n",
    "drug_accuracies"
   ]
  },
  {
   "cell_type": "markdown",
   "id": "67d15e75-a17a-4805-a675-ef5b4cf3a09e",
   "metadata": {},
   "source": [
    "Table 5 : Shows the mean accuracy of predictions across k-values from 1 to 30"
   ]
  },
  {
   "cell_type": "code",
   "execution_count": 57,
   "id": "fcbcbc79-6f05-4fa6-b172-436e168af0e4",
   "metadata": {
    "tags": []
   },
   "outputs": [
    {
     "data": {
      "text/html": [
       "29"
      ],
      "text/latex": [
       "29"
      ],
      "text/markdown": [
       "29"
      ],
      "text/plain": [
       "[1] 29"
      ]
     },
     "metadata": {},
     "output_type": "display_data"
    }
   ],
   "source": [
    "k_max <- drug_accuracies |>\n",
    "    arrange(desc(mean))|>\n",
    "    slice(1)|>\n",
    "    select(neighbors)|>\n",
    "    pull()\n",
    "\n",
    "k_best_accuracy <- drug_accuracies |>\n",
    "    arrange(desc(mean))|>\n",
    "    slice(1)|>\n",
    "    select(mean)|>\n",
    "    pull()\n",
    "\n",
    "k_max"
   ]
  },
  {
   "cell_type": "code",
   "execution_count": 58,
   "id": "8642e8d3-097a-48b6-ab1b-0361f67a459d",
   "metadata": {
    "tags": []
   },
   "outputs": [
    {
     "data": {
      "image/png": "[encoded data removed]",
      "text/plain": [
       "plot without title"
      ]
     },
     "metadata": {
      "image/png": {
       "height": 420,
       "width": 780
      }
     },
     "output_type": "display_data"
    }
   ],
   "source": [
    "options(repr.plot.width = 13, repr.plot.height = 7)\n",
    "\n",
    "drug_accuracies_plot <- drug_accuracies |>\n",
    "    ggplot(aes(x = neighbors, y = mean))+\n",
    "    geom_line()+\n",
    "    geom_point()+\n",
    "    geom_point(aes(x=k_max, y= k_best_accuracy), size = 5, colour = \"blue\") +\n",
    "    labs(x = \"The number of neighbors\", y = \"Accuracy estimate\")+\n",
    "    scale_x_continuous(breaks = seq(1,30, by = 1))+\n",
    "    theme(text = element_text(size = 18))\n",
    "\n",
    "drug_accuracies_plot"
   ]
  },
  {
   "cell_type": "markdown",
   "id": "d9912bc5-e060-4ee9-af12-f61ec39c06eb",
   "metadata": {},
   "source": [
    "### Prediction model results\n",
    "\n",
    "Now that we found our optimal k is 29, we can use this number to build the final prediction model. We will also calculate the accuracies of our model and create a confusion matrix to see exactly how many predictions were correct."
   ]
  },
  {
   "cell_type": "code",
   "execution_count": 59,
   "id": "03337199-8112-4f92-bed7-9ca9ac410b05",
   "metadata": {
    "tags": []
   },
   "outputs": [
    {
     "data": {
      "text/plain": [
       "K-Nearest Neighbor Model Specification (classification)\n",
       "\n",
       "Main Arguments:\n",
       "  neighbors = 29\n",
       "  weight_func = rectangular\n",
       "\n",
       "Computational engine: kknn \n"
      ]
     },
     "metadata": {},
     "output_type": "display_data"
    },
    {
     "data": {
      "text/plain": [
       "══ Workflow [trained] ══════════════════════════════════════════════════════════\n",
       "\u001b[3mPreprocessor:\u001b[23m Recipe\n",
       "\u001b[3mModel:\u001b[23m nearest_neighbor()\n",
       "\n",
       "── Preprocessor ────────────────────────────────────────────────────────────────\n",
       "0 Recipe Steps\n",
       "\n",
       "── Model ───────────────────────────────────────────────────────────────────────\n",
       "\n",
       "Call:\n",
       "kknn::train.kknn(formula = ..y ~ ., data = data, ks = min_rows(29,     data, 5), kernel = ~\"rectangular\")\n",
       "\n",
       "Type of response variable: nominal\n",
       "Minimal misclassification: 0.5338445\n",
       "Best kernel: rectangular\n",
       "Best k: 29"
      ]
     },
     "metadata": {},
     "output_type": "display_data"
    }
   ],
   "source": [
    "knn_spec <- nearest_neighbor(weight_func = \"rectangular\", neighbors = 29)|>\n",
    "    set_engine(\"kknn\")|>\n",
    "    set_mode(\"classification\")\n",
    "\n",
    "knn_result <- workflow()|>\n",
    "    add_recipe(drug_recipe)|>\n",
    "    add_model(knn_spec)|>\n",
    "    fit(drugdata_train)\n",
    "\n",
    "knn_spec\n",
    "\n",
    "knn_result"
   ]
  },
  {
   "cell_type": "code",
   "execution_count": 60,
   "id": "68c830e4-7f0e-4b04-9286-b3e8718f2883",
   "metadata": {
    "tags": []
   },
   "outputs": [
    {
     "data": {
      "text/html": [
       "<table class=\"dataframe\">\n",
       "<caption>A tibble: 1522 × 7</caption>\n",
       "<thead>\n",
       "\t<tr><th scope=col>.pred_class</th><th scope=col>alcohol_age</th><th scope=col>cigarette_age</th><th scope=col>marijuana_fqcy</th><th scope=col>alcohol_age2</th><th scope=col>cigarette_age2</th><th scope=col>tried_marijuana</th></tr>\n",
       "\t<tr><th scope=col>&lt;fct&gt;</th><th scope=col>&lt;dbl&gt;</th><th scope=col>&lt;dbl&gt;</th><th scope=col>&lt;dbl&gt;</th><th scope=col>&lt;dbl&gt;</th><th scope=col>&lt;dbl&gt;</th><th scope=col>&lt;fct&gt;</th></tr>\n",
       "</thead>\n",
       "<tbody>\n",
       "\t<tr><td>no</td><td>15</td><td>17</td><td>2</td><td>15</td><td>17</td><td>yes</td></tr>\n",
       "\t<tr><td>no</td><td>15</td><td>16</td><td>4</td><td>15</td><td>16</td><td>yes</td></tr>\n",
       "\t<tr><td>no</td><td>14</td><td>15</td><td>1</td><td>14</td><td>15</td><td>no </td></tr>\n",
       "\t<tr><td>⋮</td><td>⋮</td><td>⋮</td><td>⋮</td><td>⋮</td><td>⋮</td><td>⋮</td></tr>\n",
       "\t<tr><td>no </td><td>11</td><td>12</td><td>1</td><td>11</td><td>12</td><td>no </td></tr>\n",
       "\t<tr><td>no </td><td>13</td><td>13</td><td>1</td><td>13</td><td>13</td><td>no </td></tr>\n",
       "\t<tr><td>yes</td><td>10</td><td>12</td><td>2</td><td>10</td><td>12</td><td>yes</td></tr>\n",
       "</tbody>\n",
       "</table>\n"
      ],
      "text/latex": [
       "A tibble: 1522 × 7\n",
       "\\begin{tabular}{lllllll}\n",
       " .pred\\_class & alcohol\\_age & cigarette\\_age & marijuana\\_fqcy & alcohol\\_age2 & cigarette\\_age2 & tried\\_marijuana\\\\\n",
       " <fct> & <dbl> & <dbl> & <dbl> & <dbl> & <dbl> & <fct>\\\\\n",
       "\\hline\n",
       "\t no & 15 & 17 & 2 & 15 & 17 & yes\\\\\n",
       "\t no & 15 & 16 & 4 & 15 & 16 & yes\\\\\n",
       "\t no & 14 & 15 & 1 & 14 & 15 & no \\\\\n",
       "\t ⋮ & ⋮ & ⋮ & ⋮ & ⋮ & ⋮ & ⋮\\\\\n",
       "\t no  & 11 & 12 & 1 & 11 & 12 & no \\\\\n",
       "\t no  & 13 & 13 & 1 & 13 & 13 & no \\\\\n",
       "\t yes & 10 & 12 & 2 & 10 & 12 & yes\\\\\n",
       "\\end{tabular}\n"
      ],
      "text/markdown": [
       "\n",
       "A tibble: 1522 × 7\n",
       "\n",
       "| .pred_class &lt;fct&gt; | alcohol_age &lt;dbl&gt; | cigarette_age &lt;dbl&gt; | marijuana_fqcy &lt;dbl&gt; | alcohol_age2 &lt;dbl&gt; | cigarette_age2 &lt;dbl&gt; | tried_marijuana &lt;fct&gt; |\n",
       "|---|---|---|---|---|---|---|\n",
       "| no | 15 | 17 | 2 | 15 | 17 | yes |\n",
       "| no | 15 | 16 | 4 | 15 | 16 | yes |\n",
       "| no | 14 | 15 | 1 | 14 | 15 | no  |\n",
       "| ⋮ | ⋮ | ⋮ | ⋮ | ⋮ | ⋮ | ⋮ |\n",
       "| no  | 11 | 12 | 1 | 11 | 12 | no  |\n",
       "| no  | 13 | 13 | 1 | 13 | 13 | no  |\n",
       "| yes | 10 | 12 | 2 | 10 | 12 | yes |\n",
       "\n"
      ],
      "text/plain": [
       "     .pred_class alcohol_age cigarette_age marijuana_fqcy alcohol_age2\n",
       "1    no          15          17            2              15          \n",
       "2    no          15          16            4              15          \n",
       "3    no          14          15            1              14          \n",
       "⋮    ⋮           ⋮           ⋮             ⋮              ⋮           \n",
       "1520 no          11          12            1              11          \n",
       "1521 no          13          13            1              13          \n",
       "1522 yes         10          12            2              10          \n",
       "     cigarette_age2 tried_marijuana\n",
       "1    17             yes            \n",
       "2    16             yes            \n",
       "3    15             no             \n",
       "⋮    ⋮              ⋮              \n",
       "1520 12             no             \n",
       "1521 13             no             \n",
       "1522 12             yes            "
      ]
     },
     "metadata": {},
     "output_type": "display_data"
    },
    {
     "data": {
      "text/html": [
       "0.47568988173456"
      ],
      "text/latex": [
       "0.47568988173456"
      ],
      "text/markdown": [
       "0.47568988173456"
      ],
      "text/plain": [
       "[1] 0.4756899"
      ]
     },
     "metadata": {},
     "output_type": "display_data"
    }
   ],
   "source": [
    "drug_prediction <- knn_result |>\n",
    "    predict(drugdata_test)|>\n",
    "    bind_cols(drugdata_test)\n",
    "\n",
    "\n",
    "drug_final_accuracy <- drug_prediction |>\n",
    "    metrics(truth = tried_marijuana, estimate = .pred_class)|>\n",
    "    filter(.metric == \"accuracy\")|>\n",
    "    select(.estimate)|>\n",
    "    pull()\n",
    "\n",
    "drug_prediction\n",
    "\n",
    "drug_final_accuracy\n"
   ]
  },
  {
   "cell_type": "code",
   "execution_count": 61,
   "id": "7226467b-ce59-476f-8afc-c41ce3defdae",
   "metadata": {
    "tags": []
   },
   "outputs": [
    {
     "data": {
      "text/plain": [
       "          Truth\n",
       "Prediction yes  no\n",
       "       yes 274 117\n",
       "       no  681 450"
      ]
     },
     "metadata": {},
     "output_type": "display_data"
    }
   ],
   "source": [
    "drug_mnist <- drug_prediction |>\n",
    "    conf_mat(truth = tried_marijuana, estimate = .pred_class)\n",
    "\n",
    "drug_mnist"
   ]
  },
  {
   "cell_type": "markdown",
   "id": "ee85c43c-da14-455b-963c-d5695081ce8b",
   "metadata": {},
   "source": [
    "Above is the confusion matrix, showing how many predictions our model predicted correct."
   ]
  },
  {
   "cell_type": "markdown",
   "id": "f2c3a883-fda0-4c6d-883d-b51df002e9fa",
   "metadata": {},
   "source": [
    "## DISCUSSION\n",
    "\n",
    "From our classification model built with the training set, we found an accuracy of 47.5% when we used the testing set to validate our model. Since the accuracy is low, this is not a good model. However, if we look closely at the confusion matrix, we can see the that model is better at predicting \"no\", with 567 predictions and 450 correct. In other words, the model is more accurate at predicting if an individual has not smoked marijuana based on that individual's age of initial alcohol consumption and cigarette use. \n",
    "\n",
    "Since age are both our predictors, it's possible to have many overlapping points, which would cause the accuracy to be low. Furthermore, knn-classification has been known to be less accurate on large data sets. As the number of respondents is very high, it means we also have a large data set, which can also be another explanation to why our accuracy is low. Another possibility is that there could simply be another factor that influences marijuana and cannabis use in young adults. Our sources have found that consumption of alcohol or use of cigarettes at a young age have increased drug use in later years, but there could be another explanation to these findings. \n",
    "\n",
    "\n",
    "Some questions that might appear in the future regarding this prediction: \n",
    "- What other predictor can be used or added to improve the accuracy of the classification model?\n",
    "- Looking at graph 1 and graph 2, our two bar plots, it seems that more individuals experienced with alcohol and cigarettes at the age of 14 to 15. Given that the ages of 14 and 15 are ages starting high school, is it simply easier to obtain alcohol/cigarettes/marijuana at this age? \n",
    "- One of the questions asked in survey were \"In the last 30 days, how often have you been bullied by other students?\". How would our classification model change if we had bullying as a predictor?\n",
    "\n"
   ]
  },
  {
   "cell_type": "markdown",
   "id": "356c803d-364a-4490-823d-9882886e1423",
   "metadata": {},
   "source": [
    "## Reference\n",
    "\n",
    "Donovan, J. E. (2004). Adolescent alcohol initiation: a review of psychosocial risk factors. Journal of Adolescent Health, 35(6), 529-e7.\n",
    "https://pubmed.ncbi.nlm.nih.gov/15581536/\n",
    "\n",
    "Kirby, T., & Barry, A. E. (2012). Alcohol as a gateway drug: a study of US 12th graders. The Journal of school health, 82(8), 371–379. https://doi.org/10.1111/j.1746-1561.2012.00712.x\n",
    "\n",
    "Kuntsche, E., Knibbe, R., Gmel, G., & Engels, R. (2005). Why do young people drink? A review of drinking motives. Clinical psychology review, 25(3), 841-861.\n",
    "https://pubmed.ncbi.nlm.nih.gov/16095785/\n"
   ]
  },
  {
   "cell_type": "code",
   "execution_count": null,
   "id": "2da6fd28-8745-4c87-a8f4-4138f9ec8fa0",
   "metadata": {},
   "outputs": [],
   "source": []
  }
 ],
 "metadata": {
  "kernelspec": {
   "display_name": "R",
   "language": "R",
   "name": "ir"
  },
  "language_info": {
   "codemirror_mode": "r",
   "file_extension": ".r",
   "mimetype": "text/x-r-source",
   "name": "R",
   "pygments_lexer": "r",
   "version": "4.2.3"
  },
  "toc-autonumbering": false,
  "toc-showcode": true,
  "toc-showmarkdowntxt": false,
  "toc-showtags": true
 },
 "nbformat": 4,
 "nbformat_minor": 5
}
